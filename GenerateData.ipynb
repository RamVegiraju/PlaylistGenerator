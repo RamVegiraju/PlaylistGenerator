{
 "cells": [
  {
   "cell_type": "code",
   "execution_count": 1,
   "metadata": {},
   "outputs": [],
   "source": [
    "import spotipy\n",
    "from spotipy.oauth2 import SpotifyClientCredentials\n",
    "import pandas as pd\n",
    "import time\n",
    "\n",
    "#Spotipy\n",
    "client_id = 'bae1fde389a344f6b8830c4c54a9f0a2'\n",
    "client_secret = '32d96a9571f44a5aa81258a71fd1ef9a'\n",
    "client_credentials_manager = SpotifyClientCredentials(client_id, client_secret)\n",
    "sp = spotipy.Spotify(client_credentials_manager=client_credentials_manager)"
   ]
  },
  {
   "cell_type": "code",
   "execution_count": 4,
   "metadata": {},
   "outputs": [],
   "source": [
    "def getTrackIDs(playlist_id):\n",
    "    ids = []\n",
    "    results = sp.playlist(playlist_id= playlist_id)\n",
    "    for item in results['tracks']['items']:\n",
    "        track = item['track']\n",
    "        ids.append(track['id'])\n",
    "    return ids\n",
    "\n",
    "def getTrackFeatures(id):\n",
    "  meta = sp.track(id)\n",
    "  features = sp.audio_features(id)\n",
    "\n",
    "  # meta\n",
    "  name = meta['name']\n",
    "  album = meta['album']['name']\n",
    "  artist = meta['album']['artists'][0]['name']\n",
    "  release_date = meta['album']['release_date']\n",
    "  length = meta['duration_ms']\n",
    "  popularity = meta['popularity']\n",
    "\n",
    "  # features\n",
    "  acousticness = features[0]['acousticness']\n",
    "  danceability = features[0]['danceability']\n",
    "  energy = features[0]['energy']\n",
    "  instrumentalness = features[0]['instrumentalness']\n",
    "  liveness = features[0]['liveness']\n",
    "  loudness = features[0]['loudness']\n",
    "  speechiness = features[0]['speechiness']\n",
    "  tempo = features[0]['tempo']\n",
    "  time_signature = features[0]['time_signature']\n",
    "\n",
    "  track = [name, album, artist, release_date, length, popularity, danceability, acousticness, danceability, energy, instrumentalness, liveness, loudness, speechiness, tempo, time_signature]\n",
    "  return track\n",
    "\n",
    "def createSongList(ids):\n",
    "    \"\"\"Create List of Songs with Audio Features for pandas dataframe\"\"\"\n",
    "    tracks = []\n",
    "    for i in range(len(ids)):\n",
    "        time.sleep(.5)\n",
    "        track = getTrackFeatures(ids[i])\n",
    "        tracks.append(track)\n",
    "    return tracks\n",
    "\n",
    "def addGenre(df, genre):\n",
    "    \"\"\"Creating a separate column for genre/mood\"\"\"\n",
    "    df[\"Genre/Mood\"] = genre\n",
    "    return df\n",
    "\n",
    "def addLanguage(df, language):\n",
    "    \"\"\"Creating a separate column for language\"\"\"\n",
    "    df[\"Language\"] = language\n",
    "    return df\n",
    "\n",
    "def addYear(df):\n",
    "    \"\"\"Creating a year column for release year\"\"\"\n",
    "    df['release_date'] = pd.to_datetime(df['release_date']) #converting to datetime column\n",
    "    df['release_year'] = df['release_date'].dt.year #creating release year column\n",
    "    return df"
   ]
  },
  {
   "cell_type": "code",
   "execution_count": 36,
   "metadata": {},
   "outputs": [],
   "source": [
    "##########\n",
    "#Rap\n",
    "##########\n",
    "rapIDs = getTrackIDs(\"spotify:playlist:4wNaifk1uOfpnKQrIpkHl9\")\n",
    "rapIDs2 = getTrackIDs(\"spotify:playlist:2e0d7otcM1oyecfi3zZPWk\")\n",
    "tracksRap1 = createSongList(rapIDs)\n",
    "tracksRap2 = createSongList(rapIDs2)\n",
    "rapDF1 = pd.DataFrame(tracksRap1, columns = ['name', 'album', 'artist', 'release_date', 'length', 'popularity', 'danceability', 'acousticness', 'danceability', 'energy', 'instrumentalness', 'liveness', 'loudness', 'speechiness', 'tempo', 'time_signature'])\n",
    "rapDF2 = pd.DataFrame(tracksRap2, columns = ['name', 'album', 'artist', 'release_date', 'length', 'popularity', 'danceability', 'acousticness', 'danceability', 'energy', 'instrumentalness', 'liveness', 'loudness', 'speechiness', 'tempo', 'time_signature'])\n",
    "rapDF1 = addGenre(rapDF1, \"Rap\")\n",
    "rapDF2 = addGenre(rapDF2, \"Rap\")\n",
    "rapDF1 = addLanguage(rapDF1, \"English\")\n",
    "rapDF2 = addLanguage(rapDF2, \"English\")\n",
    "rapDF1 = addYear(rapDF1)\n",
    "rapDF2 = addYear(rapDF2)\n",
    "rapDF = pd.concat([rapDF1,rapDF2])\n",
    "rapDF.to_csv(\"rap.csv\", sep = ',')"
   ]
  },
  {
   "cell_type": "code",
   "execution_count": 5,
   "metadata": {},
   "outputs": [],
   "source": [
    "##########\n",
    "#Spanish\n",
    "##########\n",
    "SpanIds = getTrackIDs(\"spotify:playlist:32zAUaYOXlXaTnRCF6YZro\")\n",
    "Span2Ids = getTrackIDs(\"spotify:playlist:2tbpZ1Cj6K7SoUgh8KgeWg\")\n",
    "tracksSpan1 = createSongList(SpanIds)\n",
    "tracksSpan2 = createSongList(Span2Ids)\n",
    "spanDF1 = pd.DataFrame(tracksSpan1, columns = ['name', 'album', 'artist', 'release_date', 'length', 'popularity', 'danceability', 'acousticness', 'danceability', 'energy', 'instrumentalness', 'liveness', 'loudness', 'speechiness', 'tempo', 'time_signature'])\n",
    "spanDF2 = pd.DataFrame(tracksSpan2, columns = ['name', 'album', 'artist', 'release_date', 'length', 'popularity', 'danceability', 'acousticness', 'danceability', 'energy', 'instrumentalness', 'liveness', 'loudness', 'speechiness', 'tempo', 'time_signature'])\n",
    "spanDF1 = addGenre(spanDF1, \"Hip-Hop\")\n",
    "spanDF2 = addGenre(spanDF2, \"Hip-Hop\")\n",
    "spanDF1 = addLanguage(spanDF1, \"Spanish\")\n",
    "spanDF2 = addLanguage(spanDF2, \"Spanish\")\n",
    "spanDF1 = addYear(spanDF1)\n",
    "spanDF2 = addYear(spanDF2)\n",
    "spanDF = pd.concat([spanDF1,spanDF2])\n",
    "spanDF.to_csv(\"spanish.csv\",sep=',')"
   ]
  },
  {
   "cell_type": "code",
   "execution_count": 5,
   "metadata": {},
   "outputs": [],
   "source": [
    "##########\n",
    "#Hindi\n",
    "##########\n",
    "HindiIds = getTrackIDs(\"spotify:playlist:6dPIDyUPTzA2dGmbo5I32l\")\n",
    "Hindi2Ids = getTrackIDs(\"spotify:playlist:7txATsRO9GWnExLEBLQfCh\")\n",
    "tracksHindi1 = createSongList(HindiIds)\n",
    "tracksHindi2 = createSongList(Hindi2Ids)\n",
    "hindiDF1 = pd.DataFrame(tracksHindi1, columns = ['name', 'album', 'artist', 'release_date', 'length', 'popularity', 'danceability', 'acousticness', 'danceability', 'energy', 'instrumentalness', 'liveness', 'loudness', 'speechiness', 'tempo', 'time_signature'])\n",
    "hindiDF2 = pd.DataFrame(tracksHindi2, columns = ['name', 'album', 'artist', 'release_date', 'length', 'popularity', 'danceability', 'acousticness', 'danceability', 'energy', 'instrumentalness', 'liveness', 'loudness', 'speechiness', 'tempo', 'time_signature'])\n",
    "hindiDF1 = addGenre(hindiDF1, \"Hip-Hop\")\n",
    "hindiDF2 = addGenre(hindiDF2, \"Throwback\")\n",
    "hindiDF1 = addLanguage(hindiDF1, \"Hindi\")\n",
    "hindiDF2 = addLanguage(hindiDF2, \"Hindi\")\n",
    "hindiDF1 = addYear(hindiDF1)\n",
    "hindiDF2 = addYear(hindiDF2)\n",
    "hindiDF = pd.concat([hindiDF1,hindiDF2])\n",
    "hindiDF.to_csv(\"hindi.csv\",sep=',')"
   ]
  },
  {
   "cell_type": "code",
   "execution_count": 10,
   "metadata": {},
   "outputs": [],
   "source": [
    "##########\n",
    "#Hip-Hop\n",
    "##########\n",
    "HipHopIds = getTrackIDs(\"spotify:playlist:0OtdLZ5JVyqB4Zp8aylECe\")\n",
    "HipHopIds2 = getTrackIDs(\"spotify:playlist:003RTZc7voFjhdAwzZ5SC9\")\n",
    "HipHopIds3 = getTrackIDs(\"spotify:playlist:6Myw1PqQ874lA3ZUd6snjE\")\n",
    "tracksHipHop1 = createSongList(HipHopIds)\n",
    "tracksHipHop2 = createSongList(HipHopIds2)\n",
    "tracksHipHop3 = createSongList(HipHopIds3)\n",
    "hiphopDF1 = pd.DataFrame(tracksHipHop1, columns = ['name', 'album', 'artist', 'release_date', 'length', 'popularity', 'danceability', 'acousticness', 'danceability', 'energy', 'instrumentalness', 'liveness', 'loudness', 'speechiness', 'tempo', 'time_signature'])\n",
    "hiphopDF2 = pd.DataFrame(tracksHipHop2, columns = ['name', 'album', 'artist', 'release_date', 'length', 'popularity', 'danceability', 'acousticness', 'danceability', 'energy', 'instrumentalness', 'liveness', 'loudness', 'speechiness', 'tempo', 'time_signature'])\n",
    "hiphopDF3 = pd.DataFrame(tracksHipHop3, columns = ['name', 'album', 'artist', 'release_date', 'length', 'popularity', 'danceability', 'acousticness', 'danceability', 'energy', 'instrumentalness', 'liveness', 'loudness', 'speechiness', 'tempo', 'time_signature'])\n",
    "hiphopDF1 = addGenre(hiphopDF1, \"Hip-Hop\")\n",
    "hiphopDF2 = addGenre(hiphopDF2, \"Hip-Hop\")\n",
    "hiphopDF3 = addGenre(hiphopDF3, \"Hip-Hop\")\n",
    "hiphopDF1 = addLanguage(hiphopDF1, \"English\")\n",
    "hiphopDF2 = addLanguage(hiphopDF2, \"English\")\n",
    "hiphopDF3 = addLanguage(hiphopDF3, \"English\")\n",
    "hiphopDF1 = addYear(hiphopDF1)\n",
    "hiphopDF2 = addYear(hiphopDF2)\n",
    "hiphopDF3 = addYear(hiphopDF3)\n",
    "hiphopDF = pd.concat([hiphopDF1,hiphopDF2,hiphopDF3])\n",
    "hiphopDF.to_csv(\"hiphop.csv\",sep=',')"
   ]
  },
  {
   "cell_type": "code",
   "execution_count": 14,
   "metadata": {},
   "outputs": [],
   "source": [
    "##########\n",
    "#Jazz\n",
    "##########\n",
    "JazzIds = getTrackIDs(\"spotify:playlist:05Hd48jdQIz3s8WRrvGnzf\")\n",
    "tracksJazz = createSongList(JazzIds)\n",
    "jazzDF = pd.DataFrame(tracksJazz, columns = ['name', 'album', 'artist', 'release_date', 'length', 'popularity', 'danceability', 'acousticness', 'danceability', 'energy', 'instrumentalness', 'liveness', 'loudness', 'speechiness', 'tempo', 'time_signature'])\n",
    "jazzDF = addGenre(jazzDF, \"jazz\")\n",
    "jazzDF = addLanguage(jazzDF, \"English\")\n",
    "jazzDF = addYear(jazzDF)\n",
    "jazzDF.to_csv(\"jazz.csv\",sep=',')"
   ]
  },
  {
   "cell_type": "code",
   "execution_count": 20,
   "metadata": {},
   "outputs": [],
   "source": [
    "##########\n",
    "#Sad/Slow\n",
    "##########\n",
    "SadIds = getTrackIDs(\"spotify:playlist:0N2pTjZX98Piir6i1VUTzZ\")\n",
    "SadIds2 = getTrackIDs(\"spotify:playlist:0RVjFnEY7zzHWtQzOG4wKB\")\n",
    "SadIds3 = getTrackIDs(\"spotify:playlist:0964aStNDTMmCPbaWwoHDc\")\n",
    "tracksSad1 = createSongList(SadIds)\n",
    "tracksSad2 = createSongList(SadIds2)\n",
    "tracksSad3 = createSongList(SadIds3)\n",
    "sadDF1 = pd.DataFrame(tracksSad1, columns = ['name', 'album', 'artist', 'release_date', 'length', 'popularity', 'danceability', 'acousticness', 'danceability', 'energy', 'instrumentalness', 'liveness', 'loudness', 'speechiness', 'tempo', 'time_signature'])\n",
    "sadDF2 = pd.DataFrame(tracksSad2, columns = ['name', 'album', 'artist', 'release_date', 'length', 'popularity', 'danceability', 'acousticness', 'danceability', 'energy', 'instrumentalness', 'liveness', 'loudness', 'speechiness', 'tempo', 'time_signature'])\n",
    "sadDF3 = pd.DataFrame(tracksSad3, columns = ['name', 'album', 'artist', 'release_date', 'length', 'popularity', 'danceability', 'acousticness', 'danceability', 'energy', 'instrumentalness', 'liveness', 'loudness', 'speechiness', 'tempo', 'time_signature'])\n",
    "sadDF1 = addGenre(sadDF1, \"sad\")\n",
    "sadDF2 = addGenre(sadDF2, \"sad\")\n",
    "sadDF3 = addGenre(sadDF3, \"sad\")\n",
    "sadDF1 = addLanguage(sadDF1, \"English\")\n",
    "sadDF2 = addLanguage(sadDF2, \"English\")\n",
    "sadDF3 = addLanguage(sadDF3, \"English\")\n",
    "sadDF1 = addYear(sadDF1)\n",
    "sadDF2 = addYear(sadDF2)\n",
    "sadDF3 = addYear(sadDF3)\n",
    "sadDF = pd.concat([sadDF1, sadDF2, sadDF3])\n",
    "sadDF.to_csv(\"sad.csv\",sep=',')"
   ]
  },
  {
   "cell_type": "code",
   "execution_count": 29,
   "metadata": {},
   "outputs": [],
   "source": [
    "##########\n",
    "#Romantic\n",
    "##########\n",
    "RomanticIds = getTrackIDs(\"spotify:playlist:5G9DUTgJYuQGNUDnKSrRw4\")\n",
    "RomanticIds2 = getTrackIDs(\"spotify:playlist:1oSlx4XxBp12uknXcuhaDg\") #Hindi\n",
    "tracksRomantic1 = createSongList(RomanticIds)\n",
    "tracksRomantic2 = createSongList(RomanticIds2)\n",
    "romanticDF1 = pd.DataFrame(tracksRomantic1, columns = ['name', 'album', 'artist', 'release_date', 'length', 'popularity', 'danceability', 'acousticness', 'danceability', 'energy', 'instrumentalness', 'liveness', 'loudness', 'speechiness', 'tempo', 'time_signature'])\n",
    "romanticDF2 = pd.DataFrame(tracksRomantic2, columns = ['name', 'album', 'artist', 'release_date', 'length', 'popularity', 'danceability', 'acousticness', 'danceability', 'energy', 'instrumentalness', 'liveness', 'loudness', 'speechiness', 'tempo', 'time_signature'])\n",
    "romanticDF1 = addGenre(romanticDF1, \"romantic\")\n",
    "romanticDF2 = addGenre(romanticDF2, \"romantic\")\n",
    "romanticDF1 = addLanguage(romanticDF1, \"English\")\n",
    "romanticDF2 = addLanguage(romanticDF2, \"Hindi\")\n",
    "romanticDF1 = addYear(romanticDF1)\n",
    "romanticDF2 = addYear(romanticDF2)\n",
    "romanticDF = pd.concat([romanticDF1, romanticDF2])\n",
    "romanticDF.to_csv(\"romantic.csv\",sep=',')"
   ]
  },
  {
   "cell_type": "code",
   "execution_count": 6,
   "metadata": {},
   "outputs": [
    {
     "output_type": "execute_result",
     "data": {
      "text/plain": "Unnamed: 0          0\nname                0\nalbum               0\nartist              0\nrelease_date        0\nlength              0\npopularity          0\ndanceability        0\nacousticness        0\ndanceability.1      0\nenergy              0\ninstrumentalness    0\nliveness            0\nloudness            0\nspeechiness         0\ntempo               0\ntime_signature      0\nGenre/Mood          0\nLanguage            0\nrelease_year        0\ndtype: int64"
     },
     "metadata": {},
     "execution_count": 6
    }
   ],
   "source": [
    "hindi = pd.read_csv(\"Data/hindi.csv\")\n",
    "hindi.isnull().sum(axis=0)\n",
    "hindi = hindi.dropna()\n",
    "hindi.isnull().sum(axis=0)"
   ]
  },
  {
   "cell_type": "code",
   "execution_count": 10,
   "metadata": {},
   "outputs": [],
   "source": [
    "hiphop = pd.read_csv('Data/hiphop.csv')\n",
    "#hiphop.isnull().sum(axis=0) no missing values"
   ]
  },
  {
   "cell_type": "code",
   "execution_count": 13,
   "metadata": {},
   "outputs": [],
   "source": [
    "jazz = pd.read_csv('Data/jazz.csv')\n",
    "#jazz.isnull().sum(axis=0) no missing values"
   ]
  },
  {
   "cell_type": "code",
   "execution_count": 15,
   "metadata": {},
   "outputs": [],
   "source": [
    "rap = pd.read_csv('Data/rap.csv')\n",
    "#rap.isnull().sum(axis=0) no missing values"
   ]
  },
  {
   "cell_type": "code",
   "execution_count": 17,
   "metadata": {},
   "outputs": [],
   "source": [
    "romantic = pd.read_csv('Data/romantic.csv')\n",
    "#romantic.isnull().sum(axis=0) no missing values"
   ]
  },
  {
   "cell_type": "code",
   "execution_count": 19,
   "metadata": {},
   "outputs": [
    {
     "output_type": "execute_result",
     "data": {
      "text/plain": "Unnamed: 0          0\nname                0\nalbum               0\nartist              0\nrelease_date        0\nlength              0\npopularity          0\ndanceability        0\nacousticness        0\ndanceability.1      0\nenergy              0\ninstrumentalness    0\nliveness            0\nloudness            0\nspeechiness         0\ntempo               0\ntime_signature      0\nGenre/Mood          0\nLanguage            0\nrelease_year        0\ndtype: int64"
     },
     "metadata": {},
     "execution_count": 19
    }
   ],
   "source": [
    "sad = pd.read_csv('Data/sad.csv')\n",
    "sad.isnull().sum(axis=0)\n",
    "sad = sad.dropna()\n",
    "sad.isnull().sum(axis=0)"
   ]
  },
  {
   "cell_type": "code",
   "execution_count": 21,
   "metadata": {},
   "outputs": [],
   "source": [
    "spanish = pd.read_csv('Data/spanish.csv')\n",
    "#spanish.isnull().sum(axis=0) no missing values"
   ]
  },
  {
   "cell_type": "code",
   "execution_count": 27,
   "metadata": {},
   "outputs": [],
   "source": [
    "completeData = pd.concat([hindi,hiphop,jazz,rap,romantic,sad,spanish])\n",
    "completeData.isnull().sum(axis=0)\n",
    "completeData.to_csv('SpotifyData.csv',sep=',')"
   ]
  }
 ],
 "metadata": {
  "language_info": {
   "codemirror_mode": {
    "name": "ipython",
    "version": 3
   },
   "file_extension": ".py",
   "mimetype": "text/x-python",
   "name": "python",
   "nbconvert_exporter": "python",
   "pygments_lexer": "ipython3",
   "version": 3
  },
  "orig_nbformat": 2,
  "kernelspec": {
   "name": "python_defaultSpec_1597800368409",
   "display_name": "Python 3.8.0 64-bit"
  }
 },
 "nbformat": 4,
 "nbformat_minor": 2
}