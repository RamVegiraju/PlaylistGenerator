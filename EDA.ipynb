{
 "cells": [
  {
   "cell_type": "code",
   "execution_count": 1,
   "metadata": {},
   "outputs": [],
   "source": [
    "###################\n",
    "#EDA and Preprocessing\n",
    "###################\n",
    "import pandas as pd\n",
    "import numpy as np \n",
    "import matplotlib.pyplot as plt\n",
    "%matplotlib inline\n",
    "import seaborn as sns"
   ]
  },
  {
   "cell_type": "code",
   "execution_count": 3,
   "metadata": {},
   "outputs": [],
   "source": [
    "#Reading in data\n",
    "df = pd.read_csv('Data/SpotifyData.csv')\n",
    "df = df.drop(['Unnamed: 0','Unnamed: 0.1'],axis=1)\n",
    "df.head()"
   ]
  },
  {
   "cell_type": "code",
   "execution_count": 4,
   "metadata": {
    "tags": []
   },
   "outputs": [
    {
     "output_type": "stream",
     "name": "stdout",
     "text": "<class 'pandas.core.frame.DataFrame'>\nRangeIndex: 1253 entries, 0 to 1252\nData columns (total 19 columns):\n #   Column            Non-Null Count  Dtype  \n---  ------            --------------  -----  \n 0   name              1253 non-null   object \n 1   album             1253 non-null   object \n 2   artist            1253 non-null   object \n 3   release_date      1253 non-null   object \n 4   length            1253 non-null   int64  \n 5   popularity        1253 non-null   int64  \n 6   danceability      1253 non-null   float64\n 7   acousticness      1253 non-null   float64\n 8   danceability.1    1253 non-null   float64\n 9   energy            1253 non-null   float64\n 10  instrumentalness  1253 non-null   float64\n 11  liveness          1253 non-null   float64\n 12  loudness          1253 non-null   float64\n 13  speechiness       1253 non-null   float64\n 14  tempo             1253 non-null   float64\n 15  time_signature    1253 non-null   int64  \n 16  Genre/Mood        1253 non-null   object \n 17  Language          1253 non-null   object \n 18  release_year      1253 non-null   int64  \ndtypes: float64(9), int64(4), object(6)\nmemory usage: 186.1+ KB\n"
    }
   ],
   "source": [
    "df.info() #Need to encode categorical variables such as Genre/Mood and Language"
   ]
  },
  {
   "cell_type": "code",
   "execution_count": 5,
   "metadata": {},
   "outputs": [
    {
     "output_type": "execute_result",
     "data": {
      "text/plain": "<matplotlib.axes._subplots.AxesSubplot at 0x7fbe663d70a0>"
     },
     "metadata": {},
     "execution_count": 5
    },
    {
     "output_type": "display_data",
     "data": {
      "text/plain": "<Figure size 432x288 with 1 Axes>",
      "image/svg+xml": "<?xml version=\"1.0\" encoding=\"utf-8\" standalone=\"no\"?>\n<!DOCTYPE svg PUBLIC \"-//W3C//DTD SVG 1.1//EN\"\n  \"http://www.w3.org/Graphics/SVG/1.1/DTD/svg11.dtd\">\n<!-- Created with matplotlib (https://matplotlib.org/) -->\n<svg height=\"248.518125pt\" version=\"1.1\" viewBox=\"0 0 415.417358 248.518125\" width=\"415.417358pt\" xmlns=\"http://www.w3.org/2000/svg\" xmlns:xlink=\"http://www.w3.org/1999/xlink\">\n <defs>\n  <style type=\"text/css\">\n*{stroke-linecap:butt;stroke-linejoin:round;}\n  </style>\n </defs>\n <g id=\"figure_1\">\n  <g id=\"patch_1\">\n   <path d=\"M 0 248.518125 \nL 415.417358 248.518125 \nL 415.417358 0 \nL 0 0 \nz\n\" style=\"fill:none;\"/>\n  </g>\n  <g id=\"axes_1\">\n   <g id=\"patch_2\">\n    <path d=\"M 68.59375 224.64 \nL 403.39375 224.64 \nL 403.39375 7.2 \nL 68.59375 7.2 \nz\n\" style=\"fill:#ffffff;\"/>\n   </g>\n   <g id=\"patch_3\">\n    <path clip-path=\"url(#pe9cd9a1a04)\" d=\"M 68.59375 215.58 \nL 134.609722 215.58 \nL 134.609722 197.46 \nL 68.59375 197.46 \nz\n\" style=\"fill:#1f77b4;\"/>\n   </g>\n   <g id=\"patch_4\">\n    <path clip-path=\"url(#pe9cd9a1a04)\" d=\"M 68.59375 179.34 \nL 134.609722 179.34 \nL 134.609722 161.22 \nL 68.59375 161.22 \nz\n\" style=\"fill:#1f77b4;\"/>\n   </g>\n   <g id=\"patch_5\">\n    <path clip-path=\"url(#pe9cd9a1a04)\" d=\"M 68.59375 143.1 \nL 175.539624 143.1 \nL 175.539624 124.98 \nL 68.59375 124.98 \nz\n\" style=\"fill:#1f77b4;\"/>\n   </g>\n   <g id=\"patch_6\">\n    <path clip-path=\"url(#pe9cd9a1a04)\" d=\"M 68.59375 106.86 \nL 200.625693 106.86 \nL 200.625693 88.74 \nL 68.59375 88.74 \nz\n\" style=\"fill:#1f77b4;\"/>\n   </g>\n   <g id=\"patch_7\">\n    <path clip-path=\"url(#pe9cd9a1a04)\" d=\"M 68.59375 70.62 \nL 205.906971 70.62 \nL 205.906971 52.5 \nL 68.59375 52.5 \nz\n\" style=\"fill:#1f77b4;\"/>\n   </g>\n   <g id=\"patch_8\">\n    <path clip-path=\"url(#pe9cd9a1a04)\" d=\"M 68.59375 34.38 \nL 387.450893 34.38 \nL 387.450893 16.26 \nL 68.59375 16.26 \nz\n\" style=\"fill:#1f77b4;\"/>\n   </g>\n   <g id=\"matplotlib.axis_1\">\n    <g id=\"xtick_1\">\n     <g id=\"line2d_1\">\n      <defs>\n       <path d=\"M 0 0 \nL 0 3.5 \n\" id=\"m3f7e3c24ff\" style=\"stroke:#000000;stroke-width:0.8;\"/>\n      </defs>\n      <g>\n       <use style=\"stroke:#000000;stroke-width:0.8;\" x=\"68.59375\" xlink:href=\"#m3f7e3c24ff\" y=\"224.64\"/>\n      </g>\n     </g>\n     <g id=\"text_1\">\n      <!-- 0 -->\n      <defs>\n       <path d=\"M 31.78125 66.40625 \nQ 24.171875 66.40625 20.328125 58.90625 \nQ 16.5 51.421875 16.5 36.375 \nQ 16.5 21.390625 20.328125 13.890625 \nQ 24.171875 6.390625 31.78125 6.390625 \nQ 39.453125 6.390625 43.28125 13.890625 \nQ 47.125 21.390625 47.125 36.375 \nQ 47.125 51.421875 43.28125 58.90625 \nQ 39.453125 66.40625 31.78125 66.40625 \nz\nM 31.78125 74.21875 \nQ 44.046875 74.21875 50.515625 64.515625 \nQ 56.984375 54.828125 56.984375 36.375 \nQ 56.984375 17.96875 50.515625 8.265625 \nQ 44.046875 -1.421875 31.78125 -1.421875 \nQ 19.53125 -1.421875 13.0625 8.265625 \nQ 6.59375 17.96875 6.59375 36.375 \nQ 6.59375 54.828125 13.0625 64.515625 \nQ 19.53125 74.21875 31.78125 74.21875 \nz\n\" id=\"DejaVuSans-48\"/>\n      </defs>\n      <g transform=\"translate(65.4125 239.238437)scale(0.1 -0.1)\">\n       <use xlink:href=\"#DejaVuSans-48\"/>\n      </g>\n     </g>\n    </g>\n    <g id=\"xtick_2\">\n     <g id=\"line2d_2\">\n      <g>\n       <use style=\"stroke:#000000;stroke-width:0.8;\" x=\"134.609722\" xlink:href=\"#m3f7e3c24ff\" y=\"224.64\"/>\n      </g>\n     </g>\n     <g id=\"text_2\">\n      <!-- 100 -->\n      <defs>\n       <path d=\"M 12.40625 8.296875 \nL 28.515625 8.296875 \nL 28.515625 63.921875 \nL 10.984375 60.40625 \nL 10.984375 69.390625 \nL 28.421875 72.90625 \nL 38.28125 72.90625 \nL 38.28125 8.296875 \nL 54.390625 8.296875 \nL 54.390625 0 \nL 12.40625 0 \nz\n\" id=\"DejaVuSans-49\"/>\n      </defs>\n      <g transform=\"translate(125.065972 239.238437)scale(0.1 -0.1)\">\n       <use xlink:href=\"#DejaVuSans-49\"/>\n       <use x=\"63.623047\" xlink:href=\"#DejaVuSans-48\"/>\n       <use x=\"127.246094\" xlink:href=\"#DejaVuSans-48\"/>\n      </g>\n     </g>\n    </g>\n    <g id=\"xtick_3\">\n     <g id=\"line2d_3\">\n      <g>\n       <use style=\"stroke:#000000;stroke-width:0.8;\" x=\"200.625693\" xlink:href=\"#m3f7e3c24ff\" y=\"224.64\"/>\n      </g>\n     </g>\n     <g id=\"text_3\">\n      <!-- 200 -->\n      <defs>\n       <path d=\"M 19.1875 8.296875 \nL 53.609375 8.296875 \nL 53.609375 0 \nL 7.328125 0 \nL 7.328125 8.296875 \nQ 12.9375 14.109375 22.625 23.890625 \nQ 32.328125 33.6875 34.8125 36.53125 \nQ 39.546875 41.84375 41.421875 45.53125 \nQ 43.3125 49.21875 43.3125 52.78125 \nQ 43.3125 58.59375 39.234375 62.25 \nQ 35.15625 65.921875 28.609375 65.921875 \nQ 23.96875 65.921875 18.8125 64.3125 \nQ 13.671875 62.703125 7.8125 59.421875 \nL 7.8125 69.390625 \nQ 13.765625 71.78125 18.9375 73 \nQ 24.125 74.21875 28.421875 74.21875 \nQ 39.75 74.21875 46.484375 68.546875 \nQ 53.21875 62.890625 53.21875 53.421875 \nQ 53.21875 48.921875 51.53125 44.890625 \nQ 49.859375 40.875 45.40625 35.40625 \nQ 44.1875 33.984375 37.640625 27.21875 \nQ 31.109375 20.453125 19.1875 8.296875 \nz\n\" id=\"DejaVuSans-50\"/>\n      </defs>\n      <g transform=\"translate(191.081943 239.238437)scale(0.1 -0.1)\">\n       <use xlink:href=\"#DejaVuSans-50\"/>\n       <use x=\"63.623047\" xlink:href=\"#DejaVuSans-48\"/>\n       <use x=\"127.246094\" xlink:href=\"#DejaVuSans-48\"/>\n      </g>\n     </g>\n    </g>\n    <g id=\"xtick_4\">\n     <g id=\"line2d_4\">\n      <g>\n       <use style=\"stroke:#000000;stroke-width:0.8;\" x=\"266.641665\" xlink:href=\"#m3f7e3c24ff\" y=\"224.64\"/>\n      </g>\n     </g>\n     <g id=\"text_4\">\n      <!-- 300 -->\n      <defs>\n       <path d=\"M 40.578125 39.3125 \nQ 47.65625 37.796875 51.625 33 \nQ 55.609375 28.21875 55.609375 21.1875 \nQ 55.609375 10.40625 48.1875 4.484375 \nQ 40.765625 -1.421875 27.09375 -1.421875 \nQ 22.515625 -1.421875 17.65625 -0.515625 \nQ 12.796875 0.390625 7.625 2.203125 \nL 7.625 11.71875 \nQ 11.71875 9.328125 16.59375 8.109375 \nQ 21.484375 6.890625 26.8125 6.890625 \nQ 36.078125 6.890625 40.9375 10.546875 \nQ 45.796875 14.203125 45.796875 21.1875 \nQ 45.796875 27.640625 41.28125 31.265625 \nQ 36.765625 34.90625 28.71875 34.90625 \nL 20.21875 34.90625 \nL 20.21875 43.015625 \nL 29.109375 43.015625 \nQ 36.375 43.015625 40.234375 45.921875 \nQ 44.09375 48.828125 44.09375 54.296875 \nQ 44.09375 59.90625 40.109375 62.90625 \nQ 36.140625 65.921875 28.71875 65.921875 \nQ 24.65625 65.921875 20.015625 65.03125 \nQ 15.375 64.15625 9.8125 62.3125 \nL 9.8125 71.09375 \nQ 15.4375 72.65625 20.34375 73.4375 \nQ 25.25 74.21875 29.59375 74.21875 \nQ 40.828125 74.21875 47.359375 69.109375 \nQ 53.90625 64.015625 53.90625 55.328125 \nQ 53.90625 49.265625 50.4375 45.09375 \nQ 46.96875 40.921875 40.578125 39.3125 \nz\n\" id=\"DejaVuSans-51\"/>\n      </defs>\n      <g transform=\"translate(257.097915 239.238437)scale(0.1 -0.1)\">\n       <use xlink:href=\"#DejaVuSans-51\"/>\n       <use x=\"63.623047\" xlink:href=\"#DejaVuSans-48\"/>\n       <use x=\"127.246094\" xlink:href=\"#DejaVuSans-48\"/>\n      </g>\n     </g>\n    </g>\n    <g id=\"xtick_5\">\n     <g id=\"line2d_5\">\n      <g>\n       <use style=\"stroke:#000000;stroke-width:0.8;\" x=\"332.657636\" xlink:href=\"#m3f7e3c24ff\" y=\"224.64\"/>\n      </g>\n     </g>\n     <g id=\"text_5\">\n      <!-- 400 -->\n      <defs>\n       <path d=\"M 37.796875 64.3125 \nL 12.890625 25.390625 \nL 37.796875 25.390625 \nz\nM 35.203125 72.90625 \nL 47.609375 72.90625 \nL 47.609375 25.390625 \nL 58.015625 25.390625 \nL 58.015625 17.1875 \nL 47.609375 17.1875 \nL 47.609375 0 \nL 37.796875 0 \nL 37.796875 17.1875 \nL 4.890625 17.1875 \nL 4.890625 26.703125 \nz\n\" id=\"DejaVuSans-52\"/>\n      </defs>\n      <g transform=\"translate(323.113886 239.238437)scale(0.1 -0.1)\">\n       <use xlink:href=\"#DejaVuSans-52\"/>\n       <use x=\"63.623047\" xlink:href=\"#DejaVuSans-48\"/>\n       <use x=\"127.246094\" xlink:href=\"#DejaVuSans-48\"/>\n      </g>\n     </g>\n    </g>\n    <g id=\"xtick_6\">\n     <g id=\"line2d_6\">\n      <g>\n       <use style=\"stroke:#000000;stroke-width:0.8;\" x=\"398.673608\" xlink:href=\"#m3f7e3c24ff\" y=\"224.64\"/>\n      </g>\n     </g>\n     <g id=\"text_6\">\n      <!-- 500 -->\n      <defs>\n       <path d=\"M 10.796875 72.90625 \nL 49.515625 72.90625 \nL 49.515625 64.59375 \nL 19.828125 64.59375 \nL 19.828125 46.734375 \nQ 21.96875 47.46875 24.109375 47.828125 \nQ 26.265625 48.1875 28.421875 48.1875 \nQ 40.625 48.1875 47.75 41.5 \nQ 54.890625 34.8125 54.890625 23.390625 \nQ 54.890625 11.625 47.5625 5.09375 \nQ 40.234375 -1.421875 26.90625 -1.421875 \nQ 22.3125 -1.421875 17.546875 -0.640625 \nQ 12.796875 0.140625 7.71875 1.703125 \nL 7.71875 11.625 \nQ 12.109375 9.234375 16.796875 8.0625 \nQ 21.484375 6.890625 26.703125 6.890625 \nQ 35.15625 6.890625 40.078125 11.328125 \nQ 45.015625 15.765625 45.015625 23.390625 \nQ 45.015625 31 40.078125 35.4375 \nQ 35.15625 39.890625 26.703125 39.890625 \nQ 22.75 39.890625 18.8125 39.015625 \nQ 14.890625 38.140625 10.796875 36.28125 \nz\n\" id=\"DejaVuSans-53\"/>\n      </defs>\n      <g transform=\"translate(389.129858 239.238437)scale(0.1 -0.1)\">\n       <use xlink:href=\"#DejaVuSans-53\"/>\n       <use x=\"63.623047\" xlink:href=\"#DejaVuSans-48\"/>\n       <use x=\"127.246094\" xlink:href=\"#DejaVuSans-48\"/>\n      </g>\n     </g>\n    </g>\n   </g>\n   <g id=\"matplotlib.axis_2\">\n    <g id=\"ytick_1\">\n     <g id=\"line2d_7\">\n      <defs>\n       <path d=\"M 0 0 \nL -3.5 0 \n\" id=\"m0565846fe7\" style=\"stroke:#000000;stroke-width:0.8;\"/>\n      </defs>\n      <g>\n       <use style=\"stroke:#000000;stroke-width:0.8;\" x=\"68.59375\" xlink:href=\"#m0565846fe7\" y=\"206.52\"/>\n      </g>\n     </g>\n     <g id=\"text_7\">\n      <!-- jazz -->\n      <defs>\n       <path d=\"M 9.421875 54.6875 \nL 18.40625 54.6875 \nL 18.40625 -0.984375 \nQ 18.40625 -11.421875 14.421875 -16.109375 \nQ 10.453125 -20.796875 1.609375 -20.796875 \nL -1.8125 -20.796875 \nL -1.8125 -13.1875 \nL 0.59375 -13.1875 \nQ 5.71875 -13.1875 7.5625 -10.8125 \nQ 9.421875 -8.453125 9.421875 -0.984375 \nz\nM 9.421875 75.984375 \nL 18.40625 75.984375 \nL 18.40625 64.59375 \nL 9.421875 64.59375 \nz\n\" id=\"DejaVuSans-106\"/>\n       <path d=\"M 34.28125 27.484375 \nQ 23.390625 27.484375 19.1875 25 \nQ 14.984375 22.515625 14.984375 16.5 \nQ 14.984375 11.71875 18.140625 8.90625 \nQ 21.296875 6.109375 26.703125 6.109375 \nQ 34.1875 6.109375 38.703125 11.40625 \nQ 43.21875 16.703125 43.21875 25.484375 \nL 43.21875 27.484375 \nz\nM 52.203125 31.203125 \nL 52.203125 0 \nL 43.21875 0 \nL 43.21875 8.296875 \nQ 40.140625 3.328125 35.546875 0.953125 \nQ 30.953125 -1.421875 24.3125 -1.421875 \nQ 15.921875 -1.421875 10.953125 3.296875 \nQ 6 8.015625 6 15.921875 \nQ 6 25.140625 12.171875 29.828125 \nQ 18.359375 34.515625 30.609375 34.515625 \nL 43.21875 34.515625 \nL 43.21875 35.40625 \nQ 43.21875 41.609375 39.140625 45 \nQ 35.0625 48.390625 27.6875 48.390625 \nQ 23 48.390625 18.546875 47.265625 \nQ 14.109375 46.140625 10.015625 43.890625 \nL 10.015625 52.203125 \nQ 14.9375 54.109375 19.578125 55.046875 \nQ 24.21875 56 28.609375 56 \nQ 40.484375 56 46.34375 49.84375 \nQ 52.203125 43.703125 52.203125 31.203125 \nz\n\" id=\"DejaVuSans-97\"/>\n       <path d=\"M 5.515625 54.6875 \nL 48.1875 54.6875 \nL 48.1875 46.484375 \nL 14.40625 7.171875 \nL 48.1875 7.171875 \nL 48.1875 0 \nL 4.296875 0 \nL 4.296875 8.203125 \nL 38.09375 47.515625 \nL 5.515625 47.515625 \nz\n\" id=\"DejaVuSans-122\"/>\n      </defs>\n      <g transform=\"translate(42.190625 210.319219)scale(0.1 -0.1)\">\n       <use xlink:href=\"#DejaVuSans-106\"/>\n       <use x=\"27.783203\" xlink:href=\"#DejaVuSans-97\"/>\n       <use x=\"89.0625\" xlink:href=\"#DejaVuSans-122\"/>\n       <use x=\"141.552734\" xlink:href=\"#DejaVuSans-122\"/>\n      </g>\n     </g>\n    </g>\n    <g id=\"ytick_2\">\n     <g id=\"line2d_8\">\n      <g>\n       <use style=\"stroke:#000000;stroke-width:0.8;\" x=\"68.59375\" xlink:href=\"#m0565846fe7\" y=\"170.28\"/>\n      </g>\n     </g>\n     <g id=\"text_8\">\n      <!-- Throwback -->\n      <defs>\n       <path d=\"M -0.296875 72.90625 \nL 61.375 72.90625 \nL 61.375 64.59375 \nL 35.5 64.59375 \nL 35.5 0 \nL 25.59375 0 \nL 25.59375 64.59375 \nL -0.296875 64.59375 \nz\n\" id=\"DejaVuSans-84\"/>\n       <path d=\"M 54.890625 33.015625 \nL 54.890625 0 \nL 45.90625 0 \nL 45.90625 32.71875 \nQ 45.90625 40.484375 42.875 44.328125 \nQ 39.84375 48.1875 33.796875 48.1875 \nQ 26.515625 48.1875 22.3125 43.546875 \nQ 18.109375 38.921875 18.109375 30.90625 \nL 18.109375 0 \nL 9.078125 0 \nL 9.078125 75.984375 \nL 18.109375 75.984375 \nL 18.109375 46.1875 \nQ 21.34375 51.125 25.703125 53.5625 \nQ 30.078125 56 35.796875 56 \nQ 45.21875 56 50.046875 50.171875 \nQ 54.890625 44.34375 54.890625 33.015625 \nz\n\" id=\"DejaVuSans-104\"/>\n       <path d=\"M 41.109375 46.296875 \nQ 39.59375 47.171875 37.8125 47.578125 \nQ 36.03125 48 33.890625 48 \nQ 26.265625 48 22.1875 43.046875 \nQ 18.109375 38.09375 18.109375 28.8125 \nL 18.109375 0 \nL 9.078125 0 \nL 9.078125 54.6875 \nL 18.109375 54.6875 \nL 18.109375 46.1875 \nQ 20.953125 51.171875 25.484375 53.578125 \nQ 30.03125 56 36.53125 56 \nQ 37.453125 56 38.578125 55.875 \nQ 39.703125 55.765625 41.0625 55.515625 \nz\n\" id=\"DejaVuSans-114\"/>\n       <path d=\"M 30.609375 48.390625 \nQ 23.390625 48.390625 19.1875 42.75 \nQ 14.984375 37.109375 14.984375 27.296875 \nQ 14.984375 17.484375 19.15625 11.84375 \nQ 23.34375 6.203125 30.609375 6.203125 \nQ 37.796875 6.203125 41.984375 11.859375 \nQ 46.1875 17.53125 46.1875 27.296875 \nQ 46.1875 37.015625 41.984375 42.703125 \nQ 37.796875 48.390625 30.609375 48.390625 \nz\nM 30.609375 56 \nQ 42.328125 56 49.015625 48.375 \nQ 55.71875 40.765625 55.71875 27.296875 \nQ 55.71875 13.875 49.015625 6.21875 \nQ 42.328125 -1.421875 30.609375 -1.421875 \nQ 18.84375 -1.421875 12.171875 6.21875 \nQ 5.515625 13.875 5.515625 27.296875 \nQ 5.515625 40.765625 12.171875 48.375 \nQ 18.84375 56 30.609375 56 \nz\n\" id=\"DejaVuSans-111\"/>\n       <path d=\"M 4.203125 54.6875 \nL 13.1875 54.6875 \nL 24.421875 12.015625 \nL 35.59375 54.6875 \nL 46.1875 54.6875 \nL 57.421875 12.015625 \nL 68.609375 54.6875 \nL 77.59375 54.6875 \nL 63.28125 0 \nL 52.6875 0 \nL 40.921875 44.828125 \nL 29.109375 0 \nL 18.5 0 \nz\n\" id=\"DejaVuSans-119\"/>\n       <path d=\"M 48.6875 27.296875 \nQ 48.6875 37.203125 44.609375 42.84375 \nQ 40.53125 48.484375 33.40625 48.484375 \nQ 26.265625 48.484375 22.1875 42.84375 \nQ 18.109375 37.203125 18.109375 27.296875 \nQ 18.109375 17.390625 22.1875 11.75 \nQ 26.265625 6.109375 33.40625 6.109375 \nQ 40.53125 6.109375 44.609375 11.75 \nQ 48.6875 17.390625 48.6875 27.296875 \nz\nM 18.109375 46.390625 \nQ 20.953125 51.265625 25.265625 53.625 \nQ 29.59375 56 35.59375 56 \nQ 45.5625 56 51.78125 48.09375 \nQ 58.015625 40.1875 58.015625 27.296875 \nQ 58.015625 14.40625 51.78125 6.484375 \nQ 45.5625 -1.421875 35.59375 -1.421875 \nQ 29.59375 -1.421875 25.265625 0.953125 \nQ 20.953125 3.328125 18.109375 8.203125 \nL 18.109375 0 \nL 9.078125 0 \nL 9.078125 75.984375 \nL 18.109375 75.984375 \nz\n\" id=\"DejaVuSans-98\"/>\n       <path d=\"M 48.78125 52.59375 \nL 48.78125 44.1875 \nQ 44.96875 46.296875 41.140625 47.34375 \nQ 37.3125 48.390625 33.40625 48.390625 \nQ 24.65625 48.390625 19.8125 42.84375 \nQ 14.984375 37.3125 14.984375 27.296875 \nQ 14.984375 17.28125 19.8125 11.734375 \nQ 24.65625 6.203125 33.40625 6.203125 \nQ 37.3125 6.203125 41.140625 7.25 \nQ 44.96875 8.296875 48.78125 10.40625 \nL 48.78125 2.09375 \nQ 45.015625 0.34375 40.984375 -0.53125 \nQ 36.96875 -1.421875 32.421875 -1.421875 \nQ 20.0625 -1.421875 12.78125 6.34375 \nQ 5.515625 14.109375 5.515625 27.296875 \nQ 5.515625 40.671875 12.859375 48.328125 \nQ 20.21875 56 33.015625 56 \nQ 37.15625 56 41.109375 55.140625 \nQ 45.0625 54.296875 48.78125 52.59375 \nz\n\" id=\"DejaVuSans-99\"/>\n       <path d=\"M 9.078125 75.984375 \nL 18.109375 75.984375 \nL 18.109375 31.109375 \nL 44.921875 54.6875 \nL 56.390625 54.6875 \nL 27.390625 29.109375 \nL 57.625 0 \nL 45.90625 0 \nL 18.109375 26.703125 \nL 18.109375 0 \nL 9.078125 0 \nz\n\" id=\"DejaVuSans-107\"/>\n      </defs>\n      <g transform=\"translate(7.2 174.079219)scale(0.1 -0.1)\">\n       <use xlink:href=\"#DejaVuSans-84\"/>\n       <use x=\"61.083984\" xlink:href=\"#DejaVuSans-104\"/>\n       <use x=\"124.462891\" xlink:href=\"#DejaVuSans-114\"/>\n       <use x=\"163.326172\" xlink:href=\"#DejaVuSans-111\"/>\n       <use x=\"224.507812\" xlink:href=\"#DejaVuSans-119\"/>\n       <use x=\"306.294922\" xlink:href=\"#DejaVuSans-98\"/>\n       <use x=\"369.771484\" xlink:href=\"#DejaVuSans-97\"/>\n       <use x=\"431.050781\" xlink:href=\"#DejaVuSans-99\"/>\n       <use x=\"486.03125\" xlink:href=\"#DejaVuSans-107\"/>\n      </g>\n     </g>\n    </g>\n    <g id=\"ytick_3\">\n     <g id=\"line2d_9\">\n      <g>\n       <use style=\"stroke:#000000;stroke-width:0.8;\" x=\"68.59375\" xlink:href=\"#m0565846fe7\" y=\"134.04\"/>\n      </g>\n     </g>\n     <g id=\"text_9\">\n      <!-- romantic -->\n      <defs>\n       <path d=\"M 52 44.1875 \nQ 55.375 50.25 60.0625 53.125 \nQ 64.75 56 71.09375 56 \nQ 79.640625 56 84.28125 50.015625 \nQ 88.921875 44.046875 88.921875 33.015625 \nL 88.921875 0 \nL 79.890625 0 \nL 79.890625 32.71875 \nQ 79.890625 40.578125 77.09375 44.375 \nQ 74.3125 48.1875 68.609375 48.1875 \nQ 61.625 48.1875 57.5625 43.546875 \nQ 53.515625 38.921875 53.515625 30.90625 \nL 53.515625 0 \nL 44.484375 0 \nL 44.484375 32.71875 \nQ 44.484375 40.625 41.703125 44.40625 \nQ 38.921875 48.1875 33.109375 48.1875 \nQ 26.21875 48.1875 22.15625 43.53125 \nQ 18.109375 38.875 18.109375 30.90625 \nL 18.109375 0 \nL 9.078125 0 \nL 9.078125 54.6875 \nL 18.109375 54.6875 \nL 18.109375 46.1875 \nQ 21.1875 51.21875 25.484375 53.609375 \nQ 29.78125 56 35.6875 56 \nQ 41.65625 56 45.828125 52.96875 \nQ 50 49.953125 52 44.1875 \nz\n\" id=\"DejaVuSans-109\"/>\n       <path d=\"M 54.890625 33.015625 \nL 54.890625 0 \nL 45.90625 0 \nL 45.90625 32.71875 \nQ 45.90625 40.484375 42.875 44.328125 \nQ 39.84375 48.1875 33.796875 48.1875 \nQ 26.515625 48.1875 22.3125 43.546875 \nQ 18.109375 38.921875 18.109375 30.90625 \nL 18.109375 0 \nL 9.078125 0 \nL 9.078125 54.6875 \nL 18.109375 54.6875 \nL 18.109375 46.1875 \nQ 21.34375 51.125 25.703125 53.5625 \nQ 30.078125 56 35.796875 56 \nQ 45.21875 56 50.046875 50.171875 \nQ 54.890625 44.34375 54.890625 33.015625 \nz\n\" id=\"DejaVuSans-110\"/>\n       <path d=\"M 18.3125 70.21875 \nL 18.3125 54.6875 \nL 36.8125 54.6875 \nL 36.8125 47.703125 \nL 18.3125 47.703125 \nL 18.3125 18.015625 \nQ 18.3125 11.328125 20.140625 9.421875 \nQ 21.96875 7.515625 27.59375 7.515625 \nL 36.8125 7.515625 \nL 36.8125 0 \nL 27.59375 0 \nQ 17.1875 0 13.234375 3.875 \nQ 9.28125 7.765625 9.28125 18.015625 \nL 9.28125 47.703125 \nL 2.6875 47.703125 \nL 2.6875 54.6875 \nL 9.28125 54.6875 \nL 9.28125 70.21875 \nz\n\" id=\"DejaVuSans-116\"/>\n       <path d=\"M 9.421875 54.6875 \nL 18.40625 54.6875 \nL 18.40625 0 \nL 9.421875 0 \nz\nM 9.421875 75.984375 \nL 18.40625 75.984375 \nL 18.40625 64.59375 \nL 9.421875 64.59375 \nz\n\" id=\"DejaVuSans-105\"/>\n      </defs>\n      <g transform=\"translate(17.185937 137.839219)scale(0.1 -0.1)\">\n       <use xlink:href=\"#DejaVuSans-114\"/>\n       <use x=\"38.863281\" xlink:href=\"#DejaVuSans-111\"/>\n       <use x=\"100.044922\" xlink:href=\"#DejaVuSans-109\"/>\n       <use x=\"197.457031\" xlink:href=\"#DejaVuSans-97\"/>\n       <use x=\"258.736328\" xlink:href=\"#DejaVuSans-110\"/>\n       <use x=\"322.115234\" xlink:href=\"#DejaVuSans-116\"/>\n       <use x=\"361.324219\" xlink:href=\"#DejaVuSans-105\"/>\n       <use x=\"389.107422\" xlink:href=\"#DejaVuSans-99\"/>\n      </g>\n     </g>\n    </g>\n    <g id=\"ytick_4\">\n     <g id=\"line2d_10\">\n      <g>\n       <use style=\"stroke:#000000;stroke-width:0.8;\" x=\"68.59375\" xlink:href=\"#m0565846fe7\" y=\"97.8\"/>\n      </g>\n     </g>\n     <g id=\"text_10\">\n      <!-- Rap -->\n      <defs>\n       <path d=\"M 44.390625 34.1875 \nQ 47.5625 33.109375 50.5625 29.59375 \nQ 53.5625 26.078125 56.59375 19.921875 \nL 66.609375 0 \nL 56 0 \nL 46.6875 18.703125 \nQ 43.0625 26.03125 39.671875 28.421875 \nQ 36.28125 30.8125 30.421875 30.8125 \nL 19.671875 30.8125 \nL 19.671875 0 \nL 9.8125 0 \nL 9.8125 72.90625 \nL 32.078125 72.90625 \nQ 44.578125 72.90625 50.734375 67.671875 \nQ 56.890625 62.453125 56.890625 51.90625 \nQ 56.890625 45.015625 53.6875 40.46875 \nQ 50.484375 35.9375 44.390625 34.1875 \nz\nM 19.671875 64.796875 \nL 19.671875 38.921875 \nL 32.078125 38.921875 \nQ 39.203125 38.921875 42.84375 42.21875 \nQ 46.484375 45.515625 46.484375 51.90625 \nQ 46.484375 58.296875 42.84375 61.546875 \nQ 39.203125 64.796875 32.078125 64.796875 \nz\n\" id=\"DejaVuSans-82\"/>\n       <path d=\"M 18.109375 8.203125 \nL 18.109375 -20.796875 \nL 9.078125 -20.796875 \nL 9.078125 54.6875 \nL 18.109375 54.6875 \nL 18.109375 46.390625 \nQ 20.953125 51.265625 25.265625 53.625 \nQ 29.59375 56 35.59375 56 \nQ 45.5625 56 51.78125 48.09375 \nQ 58.015625 40.1875 58.015625 27.296875 \nQ 58.015625 14.40625 51.78125 6.484375 \nQ 45.5625 -1.421875 35.59375 -1.421875 \nQ 29.59375 -1.421875 25.265625 0.953125 \nQ 20.953125 3.328125 18.109375 8.203125 \nz\nM 48.6875 27.296875 \nQ 48.6875 37.203125 44.609375 42.84375 \nQ 40.53125 48.484375 33.40625 48.484375 \nQ 26.265625 48.484375 22.1875 42.84375 \nQ 18.109375 37.203125 18.109375 27.296875 \nQ 18.109375 17.390625 22.1875 11.75 \nQ 26.265625 6.109375 33.40625 6.109375 \nQ 40.53125 6.109375 44.609375 11.75 \nQ 48.6875 17.390625 48.6875 27.296875 \nz\n\" id=\"DejaVuSans-112\"/>\n      </defs>\n      <g transform=\"translate(42.39375 101.599219)scale(0.1 -0.1)\">\n       <use xlink:href=\"#DejaVuSans-82\"/>\n       <use x=\"67.232422\" xlink:href=\"#DejaVuSans-97\"/>\n       <use x=\"128.511719\" xlink:href=\"#DejaVuSans-112\"/>\n      </g>\n     </g>\n    </g>\n    <g id=\"ytick_5\">\n     <g id=\"line2d_11\">\n      <g>\n       <use style=\"stroke:#000000;stroke-width:0.8;\" x=\"68.59375\" xlink:href=\"#m0565846fe7\" y=\"61.56\"/>\n      </g>\n     </g>\n     <g id=\"text_11\">\n      <!-- sad -->\n      <defs>\n       <path d=\"M 44.28125 53.078125 \nL 44.28125 44.578125 \nQ 40.484375 46.53125 36.375 47.5 \nQ 32.28125 48.484375 27.875 48.484375 \nQ 21.1875 48.484375 17.84375 46.4375 \nQ 14.5 44.390625 14.5 40.28125 \nQ 14.5 37.15625 16.890625 35.375 \nQ 19.28125 33.59375 26.515625 31.984375 \nL 29.59375 31.296875 \nQ 39.15625 29.25 43.1875 25.515625 \nQ 47.21875 21.78125 47.21875 15.09375 \nQ 47.21875 7.46875 41.1875 3.015625 \nQ 35.15625 -1.421875 24.609375 -1.421875 \nQ 20.21875 -1.421875 15.453125 -0.5625 \nQ 10.6875 0.296875 5.421875 2 \nL 5.421875 11.28125 \nQ 10.40625 8.6875 15.234375 7.390625 \nQ 20.0625 6.109375 24.8125 6.109375 \nQ 31.15625 6.109375 34.5625 8.28125 \nQ 37.984375 10.453125 37.984375 14.40625 \nQ 37.984375 18.0625 35.515625 20.015625 \nQ 33.0625 21.96875 24.703125 23.78125 \nL 21.578125 24.515625 \nQ 13.234375 26.265625 9.515625 29.90625 \nQ 5.8125 33.546875 5.8125 39.890625 \nQ 5.8125 47.609375 11.28125 51.796875 \nQ 16.75 56 26.8125 56 \nQ 31.78125 56 36.171875 55.265625 \nQ 40.578125 54.546875 44.28125 53.078125 \nz\n\" id=\"DejaVuSans-115\"/>\n       <path d=\"M 45.40625 46.390625 \nL 45.40625 75.984375 \nL 54.390625 75.984375 \nL 54.390625 0 \nL 45.40625 0 \nL 45.40625 8.203125 \nQ 42.578125 3.328125 38.25 0.953125 \nQ 33.9375 -1.421875 27.875 -1.421875 \nQ 17.96875 -1.421875 11.734375 6.484375 \nQ 5.515625 14.40625 5.515625 27.296875 \nQ 5.515625 40.1875 11.734375 48.09375 \nQ 17.96875 56 27.875 56 \nQ 33.9375 56 38.25 53.625 \nQ 42.578125 51.265625 45.40625 46.390625 \nz\nM 14.796875 27.296875 \nQ 14.796875 17.390625 18.875 11.75 \nQ 22.953125 6.109375 30.078125 6.109375 \nQ 37.203125 6.109375 41.296875 11.75 \nQ 45.40625 17.390625 45.40625 27.296875 \nQ 45.40625 37.203125 41.296875 42.84375 \nQ 37.203125 48.484375 30.078125 48.484375 \nQ 22.953125 48.484375 18.875 42.84375 \nQ 14.796875 37.203125 14.796875 27.296875 \nz\n\" id=\"DejaVuSans-100\"/>\n      </defs>\n      <g transform=\"translate(43.907812 65.359219)scale(0.1 -0.1)\">\n       <use xlink:href=\"#DejaVuSans-115\"/>\n       <use x=\"52.099609\" xlink:href=\"#DejaVuSans-97\"/>\n       <use x=\"113.378906\" xlink:href=\"#DejaVuSans-100\"/>\n      </g>\n     </g>\n    </g>\n    <g id=\"ytick_6\">\n     <g id=\"line2d_12\">\n      <g>\n       <use style=\"stroke:#000000;stroke-width:0.8;\" x=\"68.59375\" xlink:href=\"#m0565846fe7\" y=\"25.32\"/>\n      </g>\n     </g>\n     <g id=\"text_12\">\n      <!-- Hip-Hop -->\n      <defs>\n       <path d=\"M 9.8125 72.90625 \nL 19.671875 72.90625 \nL 19.671875 43.015625 \nL 55.515625 43.015625 \nL 55.515625 72.90625 \nL 65.375 72.90625 \nL 65.375 0 \nL 55.515625 0 \nL 55.515625 34.71875 \nL 19.671875 34.71875 \nL 19.671875 0 \nL 9.8125 0 \nz\n\" id=\"DejaVuSans-72\"/>\n       <path d=\"M 4.890625 31.390625 \nL 31.203125 31.390625 \nL 31.203125 23.390625 \nL 4.890625 23.390625 \nz\n\" id=\"DejaVuSans-45\"/>\n      </defs>\n      <g transform=\"translate(21.351562 29.119219)scale(0.1 -0.1)\">\n       <use xlink:href=\"#DejaVuSans-72\"/>\n       <use x=\"75.195312\" xlink:href=\"#DejaVuSans-105\"/>\n       <use x=\"102.978516\" xlink:href=\"#DejaVuSans-112\"/>\n       <use x=\"166.455078\" xlink:href=\"#DejaVuSans-45\"/>\n       <use x=\"202.539062\" xlink:href=\"#DejaVuSans-72\"/>\n       <use x=\"277.734375\" xlink:href=\"#DejaVuSans-111\"/>\n       <use x=\"338.916016\" xlink:href=\"#DejaVuSans-112\"/>\n      </g>\n     </g>\n    </g>\n   </g>\n   <g id=\"patch_9\">\n    <path d=\"M 68.59375 224.64 \nL 68.59375 7.2 \n\" style=\"fill:none;stroke:#000000;stroke-linecap:square;stroke-linejoin:miter;stroke-width:0.8;\"/>\n   </g>\n   <g id=\"patch_10\">\n    <path d=\"M 403.39375 224.64 \nL 403.39375 7.2 \n\" style=\"fill:none;stroke:#000000;stroke-linecap:square;stroke-linejoin:miter;stroke-width:0.8;\"/>\n   </g>\n   <g id=\"patch_11\">\n    <path d=\"M 68.59375 224.64 \nL 403.39375 224.64 \n\" style=\"fill:none;stroke:#000000;stroke-linecap:square;stroke-linejoin:miter;stroke-width:0.8;\"/>\n   </g>\n   <g id=\"patch_12\">\n    <path d=\"M 68.59375 7.2 \nL 403.39375 7.2 \n\" style=\"fill:none;stroke:#000000;stroke-linecap:square;stroke-linejoin:miter;stroke-width:0.8;\"/>\n   </g>\n  </g>\n </g>\n <defs>\n  <clipPath id=\"pe9cd9a1a04\">\n   <rect height=\"217.44\" width=\"334.8\" x=\"68.59375\" y=\"7.2\"/>\n  </clipPath>\n </defs>\n</svg>\n",
      "image/png": "[encoded data removed]"
     },
     "metadata": {
      "needs_background": "light"
     }
    }
   ],
   "source": [
    "#Check each genre/mood\n",
    "df['Genre/Mood'].value_counts().sort_values().plot(kind = 'barh')"
   ]
  },
  {
   "cell_type": "code",
   "execution_count": 6,
   "metadata": {},
   "outputs": [
    {
     "output_type": "execute_result",
     "data": {
      "text/plain": "426"
     },
     "metadata": {},
     "execution_count": 6
    }
   ],
   "source": [
    "#426 unique artists in dataset\n",
    "len(df['artist'].unique())"
   ]
  },
  {
   "cell_type": "code",
   "execution_count": 7,
   "metadata": {},
   "outputs": [
    {
     "output_type": "execute_result",
     "data": {
      "text/plain": "['Post Malone',\n 'XXXTENTACION',\n 'Drake',\n 'The Weeknd',\n 'Various Artists',\n 'Vishal-Shekhar',\n 'Shankar-Ehsaan-Loy',\n '50 Cent',\n 'Pritam',\n 'Jatin-Lalit']"
     },
     "metadata": {},
     "execution_count": 7
    }
   ],
   "source": [
    "#Check for 10 most frequent artists\n",
    "n = 10\n",
    "df['artist'].value_counts()[:n].index.tolist()"
   ]
  },
  {
   "cell_type": "code",
   "execution_count": 8,
   "metadata": {},
   "outputs": [
    {
     "output_type": "execute_result",
     "data": {
      "text/plain": "Genre/Mood  artist            \nHip-Hop     Post Malone           56\nsad         XXXTENTACION          53\n            Drake                 44\nHip-Hop     The Weeknd            41\nThrowback   Vishal-Shekhar        30\n            Shankar-Ehsaan-Loy    25\nRap         50 Cent               23\nHip-Hop     Various Artists       18\nromantic    Various Artists       18\nThrowback   Jatin-Lalit           15\njazz        Miles Davis           13\nHip-Hop     Maluma                12\nsad         Lewis Capaldi         12\nHip-Hop     Sachin-Jigar          11\nRap         Lil Uzi Vert          11\nName: artist, dtype: int64"
     },
     "metadata": {},
     "execution_count": 8
    }
   ],
   "source": [
    "#Check for most frequent artists by genre\n",
    "group_genre = df.groupby(\"Genre/Mood\")[\"artist\"].value_counts().nlargest(15)\n",
    "group_genre"
   ]
  },
  {
   "cell_type": "code",
   "execution_count": 9,
   "metadata": {},
   "outputs": [],
   "source": [
    "#Preprocessing need to encode categorical variables in genre/mood and language\n",
    "from sklearn.preprocessing import OrdinalEncoder\n",
    "enc = OrdinalEncoder()\n",
    "encodedVariables = df[['Genre/Mood','Language']]\n",
    "enc.fit(encodedVariables[[\"Genre/Mood\",\"Language\"]])\n",
    "encodedVariables[[\"Genre/Mood\",\"Language\"]] = enc.transform(encodedVariables[[\"Genre/Mood\",\"Language\"]])"
   ]
  },
  {
   "cell_type": "code",
   "execution_count": 10,
   "metadata": {
    "tags": []
   },
   "outputs": [
    {
     "output_type": "execute_result",
     "data": {
      "text/plain": "0.0    483\n5.0    208\n1.0    200\n4.0    162\n3.0    100\n2.0    100\nName: Genre/Mood, dtype: int64"
     },
     "metadata": {},
     "execution_count": 10
    }
   ],
   "source": [
    "#Ensuring different genres are encoded\n",
    "encodedVariables['Genre/Mood'].value_counts()"
   ]
  },
  {
   "cell_type": "code",
   "execution_count": 11,
   "metadata": {},
   "outputs": [
    {
     "output_type": "execute_result",
     "data": {
      "text/plain": "0.0    821\n1.0    232\n2.0    200\nName: Language, dtype: int64"
     },
     "metadata": {},
     "execution_count": 11
    }
   ],
   "source": [
    "#Ensuring different languages are encoded\n",
    "encodedVariables['Language'].value_counts()"
   ]
  },
  {
   "cell_type": "code",
   "execution_count": 12,
   "metadata": {},
   "outputs": [
    {
     "output_type": "execute_result",
     "data": {
      "text/plain": "                                                   name  \\\n1248  DJ No Pare (feat. Zion, Dalex, Lenny Tavárez) ...   \n1249                                       Loco - Remix   \n1250                                            Feel Me   \n1251                                Ella No Quiere Rosé   \n1252                                             Morado   \n\n                                                  album           artist  \\\n1248  DJ No Pare (feat. Zion, Dalex, Lenny Tavárez) ...    Justin Quiles   \n1249                                       Loco (Remix)  Various Artists   \n1250                                        The Academy   Rich Music LTD   \n1251                                Ella No Quiere Rosé             Rvfv   \n1252                                             Morado         J Balvin   \n\n     release_date  length  popularity  danceability  acousticness  \\\n1248   2019-09-06  258600          79         0.743        0.0451   \n1249   2020-04-24  248499          81         0.908        0.1570   \n1250   2019-10-11  300266          78         0.769        0.1200   \n1251   2019-11-22  182500          60         0.861        0.1620   \n1252   2020-01-09  200666          81         0.881        0.1370   \n\n      danceability.1  energy  ...  liveness  loudness  speechiness    tempo  \\\n1248           0.743   0.709  ...    0.0809    -3.922       0.0879  170.001   \n1249           0.908   0.529  ...    0.0634    -7.032       0.1350  105.021   \n1250           0.769   0.747  ...    0.0417    -4.560       0.1270   81.034   \n1251           0.861   0.599  ...    0.0322    -6.162       0.1420   95.990   \n1252           0.881   0.696  ...    0.0927    -3.838       0.0797   97.002   \n\n      time_signature  Genre/Mood Language release_year  encodedLanguage  \\\n1248               4     Hip-Hop  Spanish         2019              2.0   \n1249               4     Hip-Hop  Spanish         2020              2.0   \n1250               4     Hip-Hop  Spanish         2019              2.0   \n1251               4     Hip-Hop  Spanish         2019              2.0   \n1252               4     Hip-Hop  Spanish         2020              2.0   \n\n      encodedGenre  \n1248           0.0  \n1249           0.0  \n1250           0.0  \n1251           0.0  \n1252           0.0  \n\n[5 rows x 21 columns]",
      "text/html": "<div>\n<style scoped>\n    .dataframe tbody tr th:only-of-type {\n        vertical-align: middle;\n    }\n\n    .dataframe tbody tr th {\n        vertical-align: top;\n    }\n\n    .dataframe thead th {\n        text-align: right;\n    }\n</style>\n<table border=\"1\" class=\"dataframe\">\n  <thead>\n    <tr style=\"text-align: right;\">\n      <th></th>\n      <th>name</th>\n      <th>album</th>\n      <th>artist</th>\n      <th>release_date</th>\n      <th>length</th>\n      <th>popularity</th>\n      <th>danceability</th>\n      <th>acousticness</th>\n      <th>danceability.1</th>\n      <th>energy</th>\n      <th>...</th>\n      <th>liveness</th>\n      <th>loudness</th>\n      <th>speechiness</th>\n      <th>tempo</th>\n      <th>time_signature</th>\n      <th>Genre/Mood</th>\n      <th>Language</th>\n      <th>release_year</th>\n      <th>encodedLanguage</th>\n      <th>encodedGenre</th>\n    </tr>\n  </thead>\n  <tbody>\n    <tr>\n      <th>1248</th>\n      <td>DJ No Pare (feat. Zion, Dalex, Lenny Tavárez) ...</td>\n      <td>DJ No Pare (feat. Zion, Dalex, Lenny Tavárez) ...</td>\n      <td>Justin Quiles</td>\n      <td>2019-09-06</td>\n      <td>258600</td>\n      <td>79</td>\n      <td>0.743</td>\n      <td>0.0451</td>\n      <td>0.743</td>\n      <td>0.709</td>\n      <td>...</td>\n      <td>0.0809</td>\n      <td>-3.922</td>\n      <td>0.0879</td>\n      <td>170.001</td>\n      <td>4</td>\n      <td>Hip-Hop</td>\n      <td>Spanish</td>\n      <td>2019</td>\n      <td>2.0</td>\n      <td>0.0</td>\n    </tr>\n    <tr>\n      <th>1249</th>\n      <td>Loco - Remix</td>\n      <td>Loco (Remix)</td>\n      <td>Various Artists</td>\n      <td>2020-04-24</td>\n      <td>248499</td>\n      <td>81</td>\n      <td>0.908</td>\n      <td>0.1570</td>\n      <td>0.908</td>\n      <td>0.529</td>\n      <td>...</td>\n      <td>0.0634</td>\n      <td>-7.032</td>\n      <td>0.1350</td>\n      <td>105.021</td>\n      <td>4</td>\n      <td>Hip-Hop</td>\n      <td>Spanish</td>\n      <td>2020</td>\n      <td>2.0</td>\n      <td>0.0</td>\n    </tr>\n    <tr>\n      <th>1250</th>\n      <td>Feel Me</td>\n      <td>The Academy</td>\n      <td>Rich Music LTD</td>\n      <td>2019-10-11</td>\n      <td>300266</td>\n      <td>78</td>\n      <td>0.769</td>\n      <td>0.1200</td>\n      <td>0.769</td>\n      <td>0.747</td>\n      <td>...</td>\n      <td>0.0417</td>\n      <td>-4.560</td>\n      <td>0.1270</td>\n      <td>81.034</td>\n      <td>4</td>\n      <td>Hip-Hop</td>\n      <td>Spanish</td>\n      <td>2019</td>\n      <td>2.0</td>\n      <td>0.0</td>\n    </tr>\n    <tr>\n      <th>1251</th>\n      <td>Ella No Quiere Rosé</td>\n      <td>Ella No Quiere Rosé</td>\n      <td>Rvfv</td>\n      <td>2019-11-22</td>\n      <td>182500</td>\n      <td>60</td>\n      <td>0.861</td>\n      <td>0.1620</td>\n      <td>0.861</td>\n      <td>0.599</td>\n      <td>...</td>\n      <td>0.0322</td>\n      <td>-6.162</td>\n      <td>0.1420</td>\n      <td>95.990</td>\n      <td>4</td>\n      <td>Hip-Hop</td>\n      <td>Spanish</td>\n      <td>2019</td>\n      <td>2.0</td>\n      <td>0.0</td>\n    </tr>\n    <tr>\n      <th>1252</th>\n      <td>Morado</td>\n      <td>Morado</td>\n      <td>J Balvin</td>\n      <td>2020-01-09</td>\n      <td>200666</td>\n      <td>81</td>\n      <td>0.881</td>\n      <td>0.1370</td>\n      <td>0.881</td>\n      <td>0.696</td>\n      <td>...</td>\n      <td>0.0927</td>\n      <td>-3.838</td>\n      <td>0.0797</td>\n      <td>97.002</td>\n      <td>4</td>\n      <td>Hip-Hop</td>\n      <td>Spanish</td>\n      <td>2020</td>\n      <td>2.0</td>\n      <td>0.0</td>\n    </tr>\n  </tbody>\n</table>\n<p>5 rows × 21 columns</p>\n</div>"
     },
     "metadata": {},
     "execution_count": 12
    }
   ],
   "source": [
    "#Concatenating encoded columns to original dataframe\n",
    "df['encodedLanguage'] = encodedVariables['Language']\n",
    "df['encodedGenre'] = encodedVariables['Genre/Mood']\n",
    "df.tail()\n",
    "\n",
    "##########\n",
    "#Mapping\n",
    "##########\n",
    "\n",
    "#Genre:\n",
    "#sad: 5\n",
    "#romantic: 4\n",
    "#jazz: 3\n",
    "#Throwback: 2\n",
    "#Rap: 1\n",
    "#Hip-Hop: 0\n",
    "\n",
    "#Language:\n",
    "#Spanish: 2\n",
    "#Hindi: 1\n",
    "#English: 0"
   ]
  },
  {
   "cell_type": "code",
   "execution_count": 127,
   "metadata": {},
   "outputs": [],
   "source": [
    "#######\n",
    "#Model Building\n",
    "######"
   ]
  },
  {
   "cell_type": "code",
   "execution_count": 16,
   "metadata": {},
   "outputs": [],
   "source": [
    "#Main factors we are evaluating is release_year, genre/mood, artist, popularity to determine the song that we will output\n",
    "from sklearn.feature_extraction.text import CountVectorizer\n",
    "from sklearn.feature_extraction.text import TfidfTransformer\n",
    "from sklearn.feature_extraction.text import TfidfVectorizer\n",
    "from sklearn.neighbors import KNeighborsClassifier\n",
    "from sklearn.pipeline import Pipeline\n",
    "from sklearn.preprocessing import StandardScaler\n",
    "from sklearn.neighbors import NearestNeighbors\n",
    "\n",
    "data = df[['encodedGenre','encodedLanguage','release_year','popularity']]\n",
    "model_knn = NearestNeighbors(metric='cosine', algorithm='brute', n_neighbors=20, n_jobs=-1).fit(data)\n",
    "distances, indices = model_knn.kneighbors(data)"
   ]
  },
  {
   "cell_type": "code",
   "execution_count": 27,
   "metadata": {
    "tags": []
   },
   "outputs": [
    {
     "output_type": "execute_result",
     "data": {
      "text/plain": "                                    name       artist\n520                         Awful Things     Lil Peep\n484                           Plain Jane    A$AP Ferg\n518  Bad and Boujee (feat. Lil Uzi Vert)        Migos\n532   Roll In Peace (feat. XXXTENTACION)  Kodak Black\n487          Slippery (feat. Gucci Mane)        Migos",
      "text/html": "<div>\n<style scoped>\n    .dataframe tbody tr th:only-of-type {\n        vertical-align: middle;\n    }\n\n    .dataframe tbody tr th {\n        vertical-align: top;\n    }\n\n    .dataframe thead th {\n        text-align: right;\n    }\n</style>\n<table border=\"1\" class=\"dataframe\">\n  <thead>\n    <tr style=\"text-align: right;\">\n      <th></th>\n      <th>name</th>\n      <th>artist</th>\n    </tr>\n  </thead>\n  <tbody>\n    <tr>\n      <th>520</th>\n      <td>Awful Things</td>\n      <td>Lil Peep</td>\n    </tr>\n    <tr>\n      <th>484</th>\n      <td>Plain Jane</td>\n      <td>A$AP Ferg</td>\n    </tr>\n    <tr>\n      <th>518</th>\n      <td>Bad and Boujee (feat. Lil Uzi Vert)</td>\n      <td>Migos</td>\n    </tr>\n    <tr>\n      <th>532</th>\n      <td>Roll In Peace (feat. XXXTENTACION)</td>\n      <td>Kodak Black</td>\n    </tr>\n    <tr>\n      <th>487</th>\n      <td>Slippery (feat. Gucci Mane)</td>\n      <td>Migos</td>\n    </tr>\n  </tbody>\n</table>\n</div>"
     },
     "metadata": {},
     "execution_count": 27
    }
   ],
   "source": [
    "def getPredictions(genre, language, release_year, popularity):\n",
    "    results = model_knn.kneighbors([[genre, language, release_year, popularity]])\n",
    "    results = results[1]\n",
    "    resultList = results.tolist()\n",
    "    resultList = resultList[0]\n",
    "    chunk = df.loc[resultList]\n",
    "    chunk = chunk[['name','artist']]\n",
    "    return chunk\n",
    "chunk2 = getPredictions(1,0,2017,75)\n",
    "chunk2.head()"
   ]
  },
  {
   "cell_type": "code",
   "execution_count": 14,
   "metadata": {
    "tags": []
   },
   "outputs": [
    {
     "output_type": "stream",
     "name": "stdout",
     "text": "[520, 484, 518, 532, 487, 267, 275, 229, 285, 254, 293, 206, 193, 505, 653, 576, 303, 218, 174, 224]\n"
    }
   ],
   "source": [
    "results = model_knn.kneighbors([[1,0,2017,75]])\n",
    "results = results[1]\n",
    "resultList = results.tolist()\n",
    "resultList = resultList[0]\n",
    "print(resultList) #check for these indices and return the song & artist"
   ]
  },
  {
   "cell_type": "code",
   "execution_count": 19,
   "metadata": {},
   "outputs": [],
   "source": [
    "#to save model\n",
    "import pickle\n",
    "def saveModel(model_knn, name=\"musicgen_pickle\"):\n",
    "    with open(name, 'wb') as f:\n",
    "        pickle.dump(model_knn, f)\n",
    "saveModel(model_knn)"
   ]
  },
  {
   "cell_type": "code",
   "execution_count": 21,
   "metadata": {},
   "outputs": [
    {
     "output_type": "execute_result",
     "data": {
      "text/plain": "                                                  name  \\\n520                                       Awful Things   \n484                                         Plain Jane   \n518                Bad and Boujee (feat. Lil Uzi Vert)   \n532                 Roll In Peace (feat. XXXTENTACION)   \n487                        Slippery (feat. Gucci Mane)   \n267                                           No Limit   \n275                        Low Life (feat. The Weeknd)   \n229                                                3AM   \n285                                     Love Me Harder   \n254                                               Woah   \n293                                              Often   \n206                     Beautiful Pain (Losin My Mind)   \n193                      Skechers (feat. Tyga) - Remix   \n505                        I Get the Bag (feat. Migos)   \n653  That's My N**** (with Meek Mill, YG & Snoop Dogg)   \n576               Chill Bill (feat. J. Davi$ & Spooks)   \n303                                       Wicked Games   \n218                                        TELL ME WHY   \n174                     Stuntin' On You (feat. DaBaby)   \n224         Zoo York (feat. Fivio Foreign & Pop Smoke)   \n\n                                                 album         artist  \\\n520                 Come Over When You're Sober, Pt. 1       Lil Peep   \n484                                     Still Striving      A$AP Ferg   \n518                                            Culture          Migos   \n532                                     Project Baby 2    Kodak Black   \n487                                            Culture          Migos   \n267                             The Beautiful & Damned         G-Eazy   \n275                                               EVOL         Future   \n229                      SHAKE THE SNOW GLOBE (DELUXE)           Russ   \n285                             My Everything (Deluxe)  Ariana Grande   \n254                                               Woah       Lil Baby   \n293                          Beauty Behind The Madness     The Weeknd   \n206                                           THE GOAT         Polo G   \n193                      Skechers (feat. Tyga) [Remix]     DripReport   \n505                                          Mr. Davis     Gucci Mane   \n653  That's My N**** (with Meek Mill, YG & Snoop Do...      Meek Mill   \n576               Chill Bill (feat. J. Davi$ & Spooks)      Rob $tone   \n303                                            Trilogy     The Weeknd   \n218                                        TELL ME WHY  The Kid LAROI   \n174                     Stuntin' On You (feat. DaBaby)     Tyla Yaweh   \n224                                 State of Emergency       Lil Tjay   \n\n    release_date  length  popularity  danceability  acousticness  \\\n520   2017-08-15  214426          75         0.368       0.01570   \n484   2017-08-18  173600          76         0.797       0.06510   \n518   2017-01-27  343150          76         0.927       0.06100   \n532   2017-08-18  213132          76         0.747       0.03060   \n487   2017-01-27  304041          74         0.920       0.30700   \n267   2017-12-15  245386          75         0.838       0.01170   \n275   2016-04-13  313546          75         0.722       0.33700   \n229   2020-05-19  200547          75         0.569       0.10800   \n285   2014-08-25  236133          74         0.472       0.00937   \n254   2019-11-08  183011          76         0.882       0.01770   \n293   2015-08-28  249040          76         0.572       0.22200   \n206   2020-05-15  171441          74         0.597       0.13700   \n193   2020-05-15  163800          74         0.875       0.17300   \n505   2017-10-13  233087          73         0.890       0.02320   \n653   2017-12-15  199746          73         0.723       0.11000   \n576   2016-06-17  177184          77         0.886       0.03120   \n303   2012-01-01  323746          73         0.658       0.00959   \n218   2020-07-17  195268          77         0.600       0.10900   \n174   2020-07-17  141122          77         0.796       0.01110   \n224   2020-05-08  214825          77         0.565       0.03520   \n\n     danceability.1  energy  ...  liveness  loudness  speechiness    tempo  \\\n520           0.368   0.796  ...    0.0694    -4.923       0.0823  170.033   \n484           0.797   0.844  ...    0.0870    -5.482       0.2750  170.142   \n518           0.927   0.665  ...    0.1230    -5.313       0.2440  127.076   \n532           0.747   0.524  ...    0.2000    -6.807       0.2450  140.053   \n487           0.920   0.674  ...    0.1040    -5.662       0.2640  141.967   \n267           0.838   0.771  ...    0.0853    -3.791       0.2440  175.957   \n275           0.722   0.331  ...    0.1460    -7.789       0.0725  143.974   \n229           0.569   0.657  ...    0.1080    -6.639       0.0425   73.008   \n285           0.472   0.714  ...    0.0764    -4.389       0.0334   98.992   \n254           0.882   0.602  ...    0.1780    -5.554       0.2450  142.959   \n293           0.572   0.631  ...    0.1350    -9.836       0.0476  134.078   \n206           0.597   0.477  ...    0.1130    -9.638       0.6420   80.382   \n193           0.875   0.443  ...    0.0891    -7.461       0.1430  100.012   \n505           0.890   0.633  ...    0.0993    -5.475       0.1680  139.948   \n653           0.723   0.732  ...    0.4840    -5.514       0.0864  104.991   \n576           0.886   0.427  ...    0.0906   -10.028       0.1450  108.034   \n303           0.658   0.591  ...    0.3250    -5.197       0.0309  114.078   \n218           0.600   0.723  ...    0.1670    -4.928       0.1580  149.881   \n174           0.796   0.683  ...    0.1260    -5.165       0.2770  173.852   \n224           0.565   0.569  ...    0.1060    -6.084       0.3790   92.466   \n\n     time_signature  Genre/Mood Language release_year  encodedLanguage  \\\n520               4         Rap  English         2017              0.0   \n484               4         Rap  English         2017              0.0   \n518               4         Rap  English         2017              0.0   \n532               4         Rap  English         2017              0.0   \n487               4         Rap  English         2017              0.0   \n267               4     Hip-Hop  English         2017              0.0   \n275               4     Hip-Hop  English         2016              0.0   \n229               4     Hip-Hop  English         2020              0.0   \n285               4     Hip-Hop  English         2014              0.0   \n254               4     Hip-Hop  English         2019              0.0   \n293               4     Hip-Hop  English         2015              0.0   \n206               4     Hip-Hop  English         2020              0.0   \n193               4     Hip-Hop  English         2020              0.0   \n505               4         Rap  English         2017              0.0   \n653               4         Rap  English         2017              0.0   \n576               4         Rap  English         2016              0.0   \n303               4     Hip-Hop  English         2012              0.0   \n218               4     Hip-Hop  English         2020              0.0   \n174               3     Hip-Hop  English         2020              0.0   \n224               5     Hip-Hop  English         2020              0.0   \n\n     encodedGenre  \n520           1.0  \n484           1.0  \n518           1.0  \n532           1.0  \n487           1.0  \n267           0.0  \n275           0.0  \n229           0.0  \n285           0.0  \n254           0.0  \n293           0.0  \n206           0.0  \n193           0.0  \n505           1.0  \n653           1.0  \n576           1.0  \n303           0.0  \n218           0.0  \n174           0.0  \n224           0.0  \n\n[20 rows x 21 columns]",
      "text/html": "<div>\n<style scoped>\n    .dataframe tbody tr th:only-of-type {\n        vertical-align: middle;\n    }\n\n    .dataframe tbody tr th {\n        vertical-align: top;\n    }\n\n    .dataframe thead th {\n        text-align: right;\n    }\n</style>\n<table border=\"1\" class=\"dataframe\">\n  <thead>\n    <tr style=\"text-align: right;\">\n      <th></th>\n      <th>name</th>\n      <th>album</th>\n      <th>artist</th>\n      <th>release_date</th>\n      <th>length</th>\n      <th>popularity</th>\n      <th>danceability</th>\n      <th>acousticness</th>\n      <th>danceability.1</th>\n      <th>energy</th>\n      <th>...</th>\n      <th>liveness</th>\n      <th>loudness</th>\n      <th>speechiness</th>\n      <th>tempo</th>\n      <th>time_signature</th>\n      <th>Genre/Mood</th>\n      <th>Language</th>\n      <th>release_year</th>\n      <th>encodedLanguage</th>\n      <th>encodedGenre</th>\n    </tr>\n  </thead>\n  <tbody>\n    <tr>\n      <th>520</th>\n      <td>Awful Things</td>\n      <td>Come Over When You're Sober, Pt. 1</td>\n      <td>Lil Peep</td>\n      <td>2017-08-15</td>\n      <td>214426</td>\n      <td>75</td>\n      <td>0.368</td>\n      <td>0.01570</td>\n      <td>0.368</td>\n      <td>0.796</td>\n      <td>...</td>\n      <td>0.0694</td>\n      <td>-4.923</td>\n      <td>0.0823</td>\n      <td>170.033</td>\n      <td>4</td>\n      <td>Rap</td>\n      <td>English</td>\n      <td>2017</td>\n      <td>0.0</td>\n      <td>1.0</td>\n    </tr>\n    <tr>\n      <th>484</th>\n      <td>Plain Jane</td>\n      <td>Still Striving</td>\n      <td>A$AP Ferg</td>\n      <td>2017-08-18</td>\n      <td>173600</td>\n      <td>76</td>\n      <td>0.797</td>\n      <td>0.06510</td>\n      <td>0.797</td>\n      <td>0.844</td>\n      <td>...</td>\n      <td>0.0870</td>\n      <td>-5.482</td>\n      <td>0.2750</td>\n      <td>170.142</td>\n      <td>4</td>\n      <td>Rap</td>\n      <td>English</td>\n      <td>2017</td>\n      <td>0.0</td>\n      <td>1.0</td>\n    </tr>\n    <tr>\n      <th>518</th>\n      <td>Bad and Boujee (feat. Lil Uzi Vert)</td>\n      <td>Culture</td>\n      <td>Migos</td>\n      <td>2017-01-27</td>\n      <td>343150</td>\n      <td>76</td>\n      <td>0.927</td>\n      <td>0.06100</td>\n      <td>0.927</td>\n      <td>0.665</td>\n      <td>...</td>\n      <td>0.1230</td>\n      <td>-5.313</td>\n      <td>0.2440</td>\n      <td>127.076</td>\n      <td>4</td>\n      <td>Rap</td>\n      <td>English</td>\n      <td>2017</td>\n      <td>0.0</td>\n      <td>1.0</td>\n    </tr>\n    <tr>\n      <th>532</th>\n      <td>Roll In Peace (feat. XXXTENTACION)</td>\n      <td>Project Baby 2</td>\n      <td>Kodak Black</td>\n      <td>2017-08-18</td>\n      <td>213132</td>\n      <td>76</td>\n      <td>0.747</td>\n      <td>0.03060</td>\n      <td>0.747</td>\n      <td>0.524</td>\n      <td>...</td>\n      <td>0.2000</td>\n      <td>-6.807</td>\n      <td>0.2450</td>\n      <td>140.053</td>\n      <td>4</td>\n      <td>Rap</td>\n      <td>English</td>\n      <td>2017</td>\n      <td>0.0</td>\n      <td>1.0</td>\n    </tr>\n    <tr>\n      <th>487</th>\n      <td>Slippery (feat. Gucci Mane)</td>\n      <td>Culture</td>\n      <td>Migos</td>\n      <td>2017-01-27</td>\n      <td>304041</td>\n      <td>74</td>\n      <td>0.920</td>\n      <td>0.30700</td>\n      <td>0.920</td>\n      <td>0.674</td>\n      <td>...</td>\n      <td>0.1040</td>\n      <td>-5.662</td>\n      <td>0.2640</td>\n      <td>141.967</td>\n      <td>4</td>\n      <td>Rap</td>\n      <td>English</td>\n      <td>2017</td>\n      <td>0.0</td>\n      <td>1.0</td>\n    </tr>\n    <tr>\n      <th>267</th>\n      <td>No Limit</td>\n      <td>The Beautiful &amp; Damned</td>\n      <td>G-Eazy</td>\n      <td>2017-12-15</td>\n      <td>245386</td>\n      <td>75</td>\n      <td>0.838</td>\n      <td>0.01170</td>\n      <td>0.838</td>\n      <td>0.771</td>\n      <td>...</td>\n      <td>0.0853</td>\n      <td>-3.791</td>\n      <td>0.2440</td>\n      <td>175.957</td>\n      <td>4</td>\n      <td>Hip-Hop</td>\n      <td>English</td>\n      <td>2017</td>\n      <td>0.0</td>\n      <td>0.0</td>\n    </tr>\n    <tr>\n      <th>275</th>\n      <td>Low Life (feat. The Weeknd)</td>\n      <td>EVOL</td>\n      <td>Future</td>\n      <td>2016-04-13</td>\n      <td>313546</td>\n      <td>75</td>\n      <td>0.722</td>\n      <td>0.33700</td>\n      <td>0.722</td>\n      <td>0.331</td>\n      <td>...</td>\n      <td>0.1460</td>\n      <td>-7.789</td>\n      <td>0.0725</td>\n      <td>143.974</td>\n      <td>4</td>\n      <td>Hip-Hop</td>\n      <td>English</td>\n      <td>2016</td>\n      <td>0.0</td>\n      <td>0.0</td>\n    </tr>\n    <tr>\n      <th>229</th>\n      <td>3AM</td>\n      <td>SHAKE THE SNOW GLOBE (DELUXE)</td>\n      <td>Russ</td>\n      <td>2020-05-19</td>\n      <td>200547</td>\n      <td>75</td>\n      <td>0.569</td>\n      <td>0.10800</td>\n      <td>0.569</td>\n      <td>0.657</td>\n      <td>...</td>\n      <td>0.1080</td>\n      <td>-6.639</td>\n      <td>0.0425</td>\n      <td>73.008</td>\n      <td>4</td>\n      <td>Hip-Hop</td>\n      <td>English</td>\n      <td>2020</td>\n      <td>0.0</td>\n      <td>0.0</td>\n    </tr>\n    <tr>\n      <th>285</th>\n      <td>Love Me Harder</td>\n      <td>My Everything (Deluxe)</td>\n      <td>Ariana Grande</td>\n      <td>2014-08-25</td>\n      <td>236133</td>\n      <td>74</td>\n      <td>0.472</td>\n      <td>0.00937</td>\n      <td>0.472</td>\n      <td>0.714</td>\n      <td>...</td>\n      <td>0.0764</td>\n      <td>-4.389</td>\n      <td>0.0334</td>\n      <td>98.992</td>\n      <td>4</td>\n      <td>Hip-Hop</td>\n      <td>English</td>\n      <td>2014</td>\n      <td>0.0</td>\n      <td>0.0</td>\n    </tr>\n    <tr>\n      <th>254</th>\n      <td>Woah</td>\n      <td>Woah</td>\n      <td>Lil Baby</td>\n      <td>2019-11-08</td>\n      <td>183011</td>\n      <td>76</td>\n      <td>0.882</td>\n      <td>0.01770</td>\n      <td>0.882</td>\n      <td>0.602</td>\n      <td>...</td>\n      <td>0.1780</td>\n      <td>-5.554</td>\n      <td>0.2450</td>\n      <td>142.959</td>\n      <td>4</td>\n      <td>Hip-Hop</td>\n      <td>English</td>\n      <td>2019</td>\n      <td>0.0</td>\n      <td>0.0</td>\n    </tr>\n    <tr>\n      <th>293</th>\n      <td>Often</td>\n      <td>Beauty Behind The Madness</td>\n      <td>The Weeknd</td>\n      <td>2015-08-28</td>\n      <td>249040</td>\n      <td>76</td>\n      <td>0.572</td>\n      <td>0.22200</td>\n      <td>0.572</td>\n      <td>0.631</td>\n      <td>...</td>\n      <td>0.1350</td>\n      <td>-9.836</td>\n      <td>0.0476</td>\n      <td>134.078</td>\n      <td>4</td>\n      <td>Hip-Hop</td>\n      <td>English</td>\n      <td>2015</td>\n      <td>0.0</td>\n      <td>0.0</td>\n    </tr>\n    <tr>\n      <th>206</th>\n      <td>Beautiful Pain (Losin My Mind)</td>\n      <td>THE GOAT</td>\n      <td>Polo G</td>\n      <td>2020-05-15</td>\n      <td>171441</td>\n      <td>74</td>\n      <td>0.597</td>\n      <td>0.13700</td>\n      <td>0.597</td>\n      <td>0.477</td>\n      <td>...</td>\n      <td>0.1130</td>\n      <td>-9.638</td>\n      <td>0.6420</td>\n      <td>80.382</td>\n      <td>4</td>\n      <td>Hip-Hop</td>\n      <td>English</td>\n      <td>2020</td>\n      <td>0.0</td>\n      <td>0.0</td>\n    </tr>\n    <tr>\n      <th>193</th>\n      <td>Skechers (feat. Tyga) - Remix</td>\n      <td>Skechers (feat. Tyga) [Remix]</td>\n      <td>DripReport</td>\n      <td>2020-05-15</td>\n      <td>163800</td>\n      <td>74</td>\n      <td>0.875</td>\n      <td>0.17300</td>\n      <td>0.875</td>\n      <td>0.443</td>\n      <td>...</td>\n      <td>0.0891</td>\n      <td>-7.461</td>\n      <td>0.1430</td>\n      <td>100.012</td>\n      <td>4</td>\n      <td>Hip-Hop</td>\n      <td>English</td>\n      <td>2020</td>\n      <td>0.0</td>\n      <td>0.0</td>\n    </tr>\n    <tr>\n      <th>505</th>\n      <td>I Get the Bag (feat. Migos)</td>\n      <td>Mr. Davis</td>\n      <td>Gucci Mane</td>\n      <td>2017-10-13</td>\n      <td>233087</td>\n      <td>73</td>\n      <td>0.890</td>\n      <td>0.02320</td>\n      <td>0.890</td>\n      <td>0.633</td>\n      <td>...</td>\n      <td>0.0993</td>\n      <td>-5.475</td>\n      <td>0.1680</td>\n      <td>139.948</td>\n      <td>4</td>\n      <td>Rap</td>\n      <td>English</td>\n      <td>2017</td>\n      <td>0.0</td>\n      <td>1.0</td>\n    </tr>\n    <tr>\n      <th>653</th>\n      <td>That's My N**** (with Meek Mill, YG &amp; Snoop Dogg)</td>\n      <td>That's My N**** (with Meek Mill, YG &amp; Snoop Do...</td>\n      <td>Meek Mill</td>\n      <td>2017-12-15</td>\n      <td>199746</td>\n      <td>73</td>\n      <td>0.723</td>\n      <td>0.11000</td>\n      <td>0.723</td>\n      <td>0.732</td>\n      <td>...</td>\n      <td>0.4840</td>\n      <td>-5.514</td>\n      <td>0.0864</td>\n      <td>104.991</td>\n      <td>4</td>\n      <td>Rap</td>\n      <td>English</td>\n      <td>2017</td>\n      <td>0.0</td>\n      <td>1.0</td>\n    </tr>\n    <tr>\n      <th>576</th>\n      <td>Chill Bill (feat. J. Davi$ &amp; Spooks)</td>\n      <td>Chill Bill (feat. J. Davi$ &amp; Spooks)</td>\n      <td>Rob $tone</td>\n      <td>2016-06-17</td>\n      <td>177184</td>\n      <td>77</td>\n      <td>0.886</td>\n      <td>0.03120</td>\n      <td>0.886</td>\n      <td>0.427</td>\n      <td>...</td>\n      <td>0.0906</td>\n      <td>-10.028</td>\n      <td>0.1450</td>\n      <td>108.034</td>\n      <td>4</td>\n      <td>Rap</td>\n      <td>English</td>\n      <td>2016</td>\n      <td>0.0</td>\n      <td>1.0</td>\n    </tr>\n    <tr>\n      <th>303</th>\n      <td>Wicked Games</td>\n      <td>Trilogy</td>\n      <td>The Weeknd</td>\n      <td>2012-01-01</td>\n      <td>323746</td>\n      <td>73</td>\n      <td>0.658</td>\n      <td>0.00959</td>\n      <td>0.658</td>\n      <td>0.591</td>\n      <td>...</td>\n      <td>0.3250</td>\n      <td>-5.197</td>\n      <td>0.0309</td>\n      <td>114.078</td>\n      <td>4</td>\n      <td>Hip-Hop</td>\n      <td>English</td>\n      <td>2012</td>\n      <td>0.0</td>\n      <td>0.0</td>\n    </tr>\n    <tr>\n      <th>218</th>\n      <td>TELL ME WHY</td>\n      <td>TELL ME WHY</td>\n      <td>The Kid LAROI</td>\n      <td>2020-07-17</td>\n      <td>195268</td>\n      <td>77</td>\n      <td>0.600</td>\n      <td>0.10900</td>\n      <td>0.600</td>\n      <td>0.723</td>\n      <td>...</td>\n      <td>0.1670</td>\n      <td>-4.928</td>\n      <td>0.1580</td>\n      <td>149.881</td>\n      <td>4</td>\n      <td>Hip-Hop</td>\n      <td>English</td>\n      <td>2020</td>\n      <td>0.0</td>\n      <td>0.0</td>\n    </tr>\n    <tr>\n      <th>174</th>\n      <td>Stuntin' On You (feat. DaBaby)</td>\n      <td>Stuntin' On You (feat. DaBaby)</td>\n      <td>Tyla Yaweh</td>\n      <td>2020-07-17</td>\n      <td>141122</td>\n      <td>77</td>\n      <td>0.796</td>\n      <td>0.01110</td>\n      <td>0.796</td>\n      <td>0.683</td>\n      <td>...</td>\n      <td>0.1260</td>\n      <td>-5.165</td>\n      <td>0.2770</td>\n      <td>173.852</td>\n      <td>3</td>\n      <td>Hip-Hop</td>\n      <td>English</td>\n      <td>2020</td>\n      <td>0.0</td>\n      <td>0.0</td>\n    </tr>\n    <tr>\n      <th>224</th>\n      <td>Zoo York (feat. Fivio Foreign &amp; Pop Smoke)</td>\n      <td>State of Emergency</td>\n      <td>Lil Tjay</td>\n      <td>2020-05-08</td>\n      <td>214825</td>\n      <td>77</td>\n      <td>0.565</td>\n      <td>0.03520</td>\n      <td>0.565</td>\n      <td>0.569</td>\n      <td>...</td>\n      <td>0.1060</td>\n      <td>-6.084</td>\n      <td>0.3790</td>\n      <td>92.466</td>\n      <td>5</td>\n      <td>Hip-Hop</td>\n      <td>English</td>\n      <td>2020</td>\n      <td>0.0</td>\n      <td>0.0</td>\n    </tr>\n  </tbody>\n</table>\n<p>20 rows × 21 columns</p>\n</div>"
     },
     "metadata": {},
     "execution_count": 21
    }
   ],
   "source": [
    "#Accessing indices that we found\n",
    "chunk = df.loc[resultList]\n",
    "chunk"
   ]
  },
  {
   "cell_type": "code",
   "execution_count": 136,
   "metadata": {
    "tags": []
   },
   "outputs": [
    {
     "output_type": "stream",
     "name": "stdout",
     "text": "(array([[0.00000000e+00, 1.22558069e-07, 1.22558069e-07, 1.22558069e-07,\n        1.22567094e-07, 1.22732072e-07, 1.22901701e-07, 1.24252697e-07,\n        2.19767266e-07, 2.27531564e-07, 2.64477307e-07, 2.73720673e-07,\n        2.73720673e-07, 4.90286160e-07, 4.90286160e-07, 5.09115485e-07,\n        5.28105910e-07, 5.58491513e-07, 5.58491513e-07, 5.58491513e-07]]), array([[520, 484, 518, 532, 487, 267, 275, 229, 285, 254, 293, 206, 193,\n        505, 653, 576, 303, 218, 174, 224]]))\n"
    }
   ],
   "source": [
    "print(model_knn.kneighbors([[1,0,2017,75]]))"
   ]
  },
  {
   "cell_type": "code",
   "execution_count": 147,
   "metadata": {},
   "outputs": [
    {
     "output_type": "execute_result",
     "data": {
      "text/plain": "encodedGenre          0.0\nencodedLanguage       0.0\nrelease_year       2015.0\npopularity           76.0\nName: 293, dtype: float64"
     },
     "metadata": {},
     "execution_count": 147
    }
   ],
   "source": [
    "data.iloc[293]"
   ]
  },
  {
   "cell_type": "code",
   "execution_count": 146,
   "metadata": {},
   "outputs": [
    {
     "output_type": "execute_result",
     "data": {
      "text/plain": "name                  TELL ME WHY\nalbum                 TELL ME WHY\nartist              The Kid LAROI\nrelease_date           2020-07-17\nlength                     195268\npopularity                     77\ndanceability                  0.6\nacousticness                0.109\ndanceability.1                0.6\nenergy                      0.723\ninstrumentalness                0\nliveness                    0.167\nloudness                   -4.928\nspeechiness                 0.158\ntempo                     149.881\ntime_signature                  4\nGenre/Mood                Hip-Hop\nLanguage                  English\nrelease_year                 2020\nencodedLanguage                 0\nencodedGenre                    0\nName: 218, dtype: object"
     },
     "metadata": {},
     "execution_count": 146
    }
   ],
   "source": [
    "df.iloc[218]"
   ]
  }
 ],
 "metadata": {
  "language_info": {
   "codemirror_mode": {
    "name": "ipython",
    "version": 3
   },
   "file_extension": ".py",
   "mimetype": "text/x-python",
   "name": "python",
   "nbconvert_exporter": "python",
   "pygments_lexer": "ipython3",
   "version": 3
  },
  "orig_nbformat": 2,
  "kernelspec": {
   "name": "python_defaultSpec_1597888986950",
   "display_name": "Python 3.8.0 64-bit"
  }
 },
 "nbformat": 4,
 "nbformat_minor": 2
}