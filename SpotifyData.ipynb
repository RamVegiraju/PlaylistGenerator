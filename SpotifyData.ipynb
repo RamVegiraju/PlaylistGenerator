{
 "cells": [
  {
   "cell_type": "code",
   "execution_count": 3,
   "metadata": {},
   "outputs": [],
   "source": [
    "import spotipy\n",
    "from spotipy.oauth2 import SpotifyClientCredentials\n",
    "import pandas as pd\n",
    "import time\n",
    "\n",
    "#Spotipy\n",
    "client_id = 'bae1fde389a344f6b8830c4c54a9f0a2'\n",
    "client_secret = '32d96a9571f44a5aa81258a71fd1ef9a'\n",
    "client_credentials_manager = SpotifyClientCredentials(client_id, client_secret)\n",
    "sp = spotipy.Spotify(client_credentials_manager=client_credentials_manager)"
   ]
  },
  {
   "cell_type": "code",
   "execution_count": 4,
   "metadata": {},
   "outputs": [],
   "source": [
    "def getTrackIDs(playlist_id):\n",
    "    ids = []\n",
    "    results = sp.playlist(playlist_id= playlist_id)\n",
    "    for item in results['tracks']['items']:\n",
    "        track = item['track']\n",
    "        ids.append(track['id'])\n",
    "    return ids\n",
    "\n",
    "def getTrackFeatures(id):\n",
    "  meta = sp.track(id)\n",
    "  features = sp.audio_features(id)\n",
    "\n",
    "  # meta\n",
    "  name = meta['name']\n",
    "  album = meta['album']['name']\n",
    "  artist = meta['album']['artists'][0]['name']\n",
    "  release_date = meta['album']['release_date']\n",
    "  length = meta['duration_ms']\n",
    "  popularity = meta['popularity']\n",
    "\n",
    "  # features\n",
    "  acousticness = features[0]['acousticness']\n",
    "  danceability = features[0]['danceability']\n",
    "  energy = features[0]['energy']\n",
    "  instrumentalness = features[0]['instrumentalness']\n",
    "  liveness = features[0]['liveness']\n",
    "  loudness = features[0]['loudness']\n",
    "  speechiness = features[0]['speechiness']\n",
    "  tempo = features[0]['tempo']\n",
    "  time_signature = features[0]['time_signature']\n",
    "\n",
    "  track = [name, album, artist, release_date, length, popularity, danceability, acousticness, danceability, energy, instrumentalness, liveness, loudness, speechiness, tempo, time_signature]\n",
    "  return track\n",
    "\n",
    "def createSongList(ids):\n",
    "    \"\"\"Create List of Songs with Audio Features for pandas dataframe\"\"\"\n",
    "    tracks = []\n",
    "    for i in range(len(ids)):\n",
    "        time.sleep(.5)\n",
    "        track = getTrackFeatures(ids[i])\n",
    "        tracks.append(track)\n",
    "    return tracks\n",
    "\n",
    "def addGenre(df, genre):\n",
    "    \"\"\"Creating a separate column for genre/mood\"\"\"\n",
    "    df[\"Genre/Mood\"] = genre\n",
    "    return df\n",
    "\n",
    "def addLanguage(df, language):\n",
    "    \"\"\"Creating a separate column for language\"\"\"\n",
    "    df[\"Language\"] = language\n",
    "    return df\n",
    "\n",
    "def addYear(df):\n",
    "    \"\"\"Creating a year column for release year\"\"\"\n",
    "    df['release_date'] = pd.to_datetime(df['release_date']) #converting to datetime column\n",
    "    df['release_year'] = df['release_date'].dt.year #creating release year column\n",
    "    return df"
   ]
  },
  {
   "cell_type": "code",
   "execution_count": 36,
   "metadata": {},
   "outputs": [],
   "source": [
    "##########\n",
    "#Rap\n",
    "##########\n",
    "rapIDs = getTrackIDs(\"spotify:playlist:4wNaifk1uOfpnKQrIpkHl9\")\n",
    "rapIDs2 = getTrackIDs(\"spotify:playlist:2e0d7otcM1oyecfi3zZPWk\")\n",
    "tracksRap1 = createSongList(rapIDs)\n",
    "tracksRap2 = createSongList(rapIDs2)\n",
    "rapDF1 = pd.DataFrame(tracksRap1, columns = ['name', 'album', 'artist', 'release_date', 'length', 'popularity', 'danceability', 'acousticness', 'danceability', 'energy', 'instrumentalness', 'liveness', 'loudness', 'speechiness', 'tempo', 'time_signature'])\n",
    "rapDF2 = pd.DataFrame(tracksRap2, columns = ['name', 'album', 'artist', 'release_date', 'length', 'popularity', 'danceability', 'acousticness', 'danceability', 'energy', 'instrumentalness', 'liveness', 'loudness', 'speechiness', 'tempo', 'time_signature'])\n",
    "rapDF1 = addGenre(rapDF1, \"Rap\")\n",
    "rapDF2 = addGenre(rapDF2, \"Rap\")\n",
    "rapDF1 = addLanguage(rapDF1, \"English\")\n",
    "rapDF2 = addLanguage(rapDF2, \"English\")\n",
    "rapDF1 = addYear(rapDF1)\n",
    "rapDF2 = addYear(rapDF2)\n",
    "rapDF = pd.concat([rapDF1,rapDF2])\n",
    "rapDF.to_csv(\"rap.csv\", sep = ',')"
   ]
  },
  {
   "cell_type": "code",
   "execution_count": 5,
   "metadata": {},
   "outputs": [],
   "source": [
    "##########\n",
    "#Spanish\n",
    "##########\n",
    "SpanIds = getTrackIDs(\"spotify:playlist:32zAUaYOXlXaTnRCF6YZro\")\n",
    "Span2Ids = getTrackIDs(\"spotify:playlist:2tbpZ1Cj6K7SoUgh8KgeWg\")\n",
    "tracksSpan1 = createSongList(SpanIds)\n",
    "tracksSpan2 = createSongList(Span2Ids)\n",
    "spanDF1 = pd.DataFrame(tracksSpan1, columns = ['name', 'album', 'artist', 'release_date', 'length', 'popularity', 'danceability', 'acousticness', 'danceability', 'energy', 'instrumentalness', 'liveness', 'loudness', 'speechiness', 'tempo', 'time_signature'])\n",
    "spanDF2 = pd.DataFrame(tracksSpan2, columns = ['name', 'album', 'artist', 'release_date', 'length', 'popularity', 'danceability', 'acousticness', 'danceability', 'energy', 'instrumentalness', 'liveness', 'loudness', 'speechiness', 'tempo', 'time_signature'])\n",
    "spanDF1 = addGenre(spanDF1, \"Hip-Hop\")\n",
    "spanDF2 = addGenre(spanDF2, \"Hip-Hop\")\n",
    "spanDF1 = addLanguage(spanDF1, \"Spanish\")\n",
    "spanDF2 = addLanguage(spanDF2, \"Spanish\")\n",
    "spanDF1 = addYear(spanDF1)\n",
    "spanDF2 = addYear(spanDF2)\n",
    "spanDF = pd.concat([spanDF1,spanDF2])\n",
    "spanDF.to_csv(\"spanish.csv\",sep=',')"
   ]
  },
  {
   "cell_type": "code",
   "execution_count": 7,
   "metadata": {},
   "outputs": [
    {
     "output_type": "execute_result",
     "data": {
      "text/plain": "                         name                             album  \\\n0  Bailando - Spanish Version             SEX AND LOVE (Deluxe)   \n1         Propuesta Indecente  Fórmula, Vol. 2 (Deluxe Edition)   \n2               Vivir Mi Vida                               3.0   \n3               Darte un Beso                      Soy el Mismo   \n4  Back It Up (feat. Pitbull)        Back It Up (feat. Pitbull)   \n\n             artist release_date  length  popularity  danceability  \\\n0  Enrique Iglesias   2014-01-01  243413          69         0.723   \n1      Romeo Santos   2014-02-25  235133          76         0.757   \n2      Marc Anthony   2013-07-23  252346          76         0.655   \n3      Prince Royce   2013-10-08  206933          71         0.757   \n4      Prince Royce   2015-05-04  200935          49         0.736   \n\n   acousticness  danceability  energy  instrumentalness  liveness  loudness  \\\n0        0.0426         0.723   0.777          0.000004    0.0451    -3.503   \n1        0.4990         0.757   0.632          0.000000    0.0723    -6.830   \n2        0.3440         0.655   0.877          0.000000    0.3490    -3.230   \n3        0.3600         0.757   0.711          0.000000    0.1210    -4.643   \n4        0.0895         0.736   0.743          0.000000    0.0482    -7.437   \n\n   speechiness    tempo  time_signature Genre/Mood Language  release_year  \n0       0.1080   91.017               4    Hip-Hop  Spanish          2014  \n1       0.0549  122.936               4    Hip-Hop  Spanish          2014  \n2       0.0344  105.017               4    Hip-Hop  Spanish          2013  \n3       0.0349  139.962               4    Hip-Hop  Spanish          2013  \n4       0.0758  104.078               4    Hip-Hop  Spanish          2015  ",
      "text/html": "<div>\n<style scoped>\n    .dataframe tbody tr th:only-of-type {\n        vertical-align: middle;\n    }\n\n    .dataframe tbody tr th {\n        vertical-align: top;\n    }\n\n    .dataframe thead th {\n        text-align: right;\n    }\n</style>\n<table border=\"1\" class=\"dataframe\">\n  <thead>\n    <tr style=\"text-align: right;\">\n      <th></th>\n      <th>name</th>\n      <th>album</th>\n      <th>artist</th>\n      <th>release_date</th>\n      <th>length</th>\n      <th>popularity</th>\n      <th>danceability</th>\n      <th>acousticness</th>\n      <th>danceability</th>\n      <th>energy</th>\n      <th>instrumentalness</th>\n      <th>liveness</th>\n      <th>loudness</th>\n      <th>speechiness</th>\n      <th>tempo</th>\n      <th>time_signature</th>\n      <th>Genre/Mood</th>\n      <th>Language</th>\n      <th>release_year</th>\n    </tr>\n  </thead>\n  <tbody>\n    <tr>\n      <th>0</th>\n      <td>Bailando - Spanish Version</td>\n      <td>SEX AND LOVE (Deluxe)</td>\n      <td>Enrique Iglesias</td>\n      <td>2014-01-01</td>\n      <td>243413</td>\n      <td>69</td>\n      <td>0.723</td>\n      <td>0.0426</td>\n      <td>0.723</td>\n      <td>0.777</td>\n      <td>0.000004</td>\n      <td>0.0451</td>\n      <td>-3.503</td>\n      <td>0.1080</td>\n      <td>91.017</td>\n      <td>4</td>\n      <td>Hip-Hop</td>\n      <td>Spanish</td>\n      <td>2014</td>\n    </tr>\n    <tr>\n      <th>1</th>\n      <td>Propuesta Indecente</td>\n      <td>Fórmula, Vol. 2 (Deluxe Edition)</td>\n      <td>Romeo Santos</td>\n      <td>2014-02-25</td>\n      <td>235133</td>\n      <td>76</td>\n      <td>0.757</td>\n      <td>0.4990</td>\n      <td>0.757</td>\n      <td>0.632</td>\n      <td>0.000000</td>\n      <td>0.0723</td>\n      <td>-6.830</td>\n      <td>0.0549</td>\n      <td>122.936</td>\n      <td>4</td>\n      <td>Hip-Hop</td>\n      <td>Spanish</td>\n      <td>2014</td>\n    </tr>\n    <tr>\n      <th>2</th>\n      <td>Vivir Mi Vida</td>\n      <td>3.0</td>\n      <td>Marc Anthony</td>\n      <td>2013-07-23</td>\n      <td>252346</td>\n      <td>76</td>\n      <td>0.655</td>\n      <td>0.3440</td>\n      <td>0.655</td>\n      <td>0.877</td>\n      <td>0.000000</td>\n      <td>0.3490</td>\n      <td>-3.230</td>\n      <td>0.0344</td>\n      <td>105.017</td>\n      <td>4</td>\n      <td>Hip-Hop</td>\n      <td>Spanish</td>\n      <td>2013</td>\n    </tr>\n    <tr>\n      <th>3</th>\n      <td>Darte un Beso</td>\n      <td>Soy el Mismo</td>\n      <td>Prince Royce</td>\n      <td>2013-10-08</td>\n      <td>206933</td>\n      <td>71</td>\n      <td>0.757</td>\n      <td>0.3600</td>\n      <td>0.757</td>\n      <td>0.711</td>\n      <td>0.000000</td>\n      <td>0.1210</td>\n      <td>-4.643</td>\n      <td>0.0349</td>\n      <td>139.962</td>\n      <td>4</td>\n      <td>Hip-Hop</td>\n      <td>Spanish</td>\n      <td>2013</td>\n    </tr>\n    <tr>\n      <th>4</th>\n      <td>Back It Up (feat. Pitbull)</td>\n      <td>Back It Up (feat. Pitbull)</td>\n      <td>Prince Royce</td>\n      <td>2015-05-04</td>\n      <td>200935</td>\n      <td>49</td>\n      <td>0.736</td>\n      <td>0.0895</td>\n      <td>0.736</td>\n      <td>0.743</td>\n      <td>0.000000</td>\n      <td>0.0482</td>\n      <td>-7.437</td>\n      <td>0.0758</td>\n      <td>104.078</td>\n      <td>4</td>\n      <td>Hip-Hop</td>\n      <td>Spanish</td>\n      <td>2015</td>\n    </tr>\n  </tbody>\n</table>\n</div>"
     },
     "metadata": {},
     "execution_count": 7
    }
   ],
   "source": [
    "spanDF.head()"
   ]
  }
 ],
 "metadata": {
  "language_info": {
   "codemirror_mode": {
    "name": "ipython",
    "version": 3
   },
   "file_extension": ".py",
   "mimetype": "text/x-python",
   "name": "python",
   "nbconvert_exporter": "python",
   "pygments_lexer": "ipython3",
   "version": 3
  },
  "orig_nbformat": 2,
  "kernelspec": {
   "name": "python_defaultSpec_1597726604110",
   "display_name": "Python 3.8.0 64-bit"
  }
 },
 "nbformat": 4,
 "nbformat_minor": 2
}